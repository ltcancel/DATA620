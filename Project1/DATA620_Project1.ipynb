{
 "cells": [
  {
   "cell_type": "markdown",
   "metadata": {},
   "source": [
    "# DATA 620 Project 1"
   ]
  },
  {
   "cell_type": "markdown",
   "metadata": {},
   "source": [
    "## Authors: John Mazon, LeTicia Cancel, Bharani Nittala\n",
    "\n",
    "Video Recording: https://youtu.be/mAhEbcIvJx8\n",
    "(Apologies for the low audio!)"
   ]
  },
  {
   "cell_type": "markdown",
   "metadata": {},
   "source": [
    "### Introduction\n",
    "\n",
    "For this project we were asked to:\n",
    "1. Identify and load a network dataset that has some categorical information available for each node.\n",
    "2. For each of the nodes in the dataset, calculate degree centrality and eigenvector centrality.\n",
    "3. Compare your centrality measures across your categorical groups.\n",
    "\n",
    "### Hypothesis:\n",
    "\n",
    "Our dataset consists of tv shows and movies available on Netflix as of 2019 from Kaggle https://www.kaggle.com/shivamb/netflix-shows. The dataset can be leveraged to measure degree centrality by the nodes such as TV shows and Movies. It will be interesting to see how the data differs between movies and tv shows created in the United States and content created outside of the US. "
   ]
  },
  {
   "cell_type": "markdown",
   "metadata": {},
   "source": [
    "### Revised Project Proposal:\n",
    "\n",
    "Upon completing the project, we realized that our dataset is not the best one for this project. So, we revised our dataset to a new one. \n",
    "\n",
    "Learnings from previous dataset (Netflix) - \n",
    "1) There is a need for clear nodes and edges in the dataset\n",
    "\n",
    "2) There is a need for clear objective to the project\n",
    "\n",
    "3) There is a need for categorical variable that possibly shows different set of behavior for the same KPI"
   ]
  },
  {
   "cell_type": "markdown",
   "metadata": {},
   "source": [
    "## Table of Contents"
   ]
  },
  {
   "cell_type": "markdown",
   "metadata": {},
   "source": [
    "1. [Data Source](#source)\n",
    "2. [Data Extraction](#extract)\n",
    "3. [Importing Key Libraries](#lib)\n",
    "4. [Data Cleaning](#clean)\n",
    "5. [Exploratory Data Analysis](#eda)\n",
    "6. [Solutions](#sol)"
   ]
  },
  {
   "cell_type": "markdown",
   "metadata": {},
   "source": [
    "## 1. Data Source <a id = 'source'></a>"
   ]
  },
  {
   "cell_type": "markdown",
   "metadata": {},
   "source": [
    "#### Source: Network data from University of Michigan http://www-personal.umich.edu/~mejn/netdata/\n",
    "#### Dataset name: Books about US politics"
   ]
  },
  {
   "cell_type": "markdown",
   "metadata": {},
   "source": [
    "The **Books about US politics** dataset has the capacity for centrality metrics as well as a good amount of categorical data for nodes. This will avoid the roadblock we had in the initial Netflix dataset. \n",
    "\n",
    "Nodes represent books about US politics sold by the online bookseller\n",
    "Amazon.com.  Edges represent frequent co-purchasing of books by the same\n",
    "buyers, as indicated by the \"customers who bought this book also bought\n",
    "these other books\" feature on Amazon.\n",
    "\n",
    "Nodes have been given values \"l\", \"n\", or \"c\" to indicate whether they are\n",
    "**\"liberal\", \"neutral\", or \"conservative\".**  "
   ]
  },
  {
   "cell_type": "markdown",
   "metadata": {},
   "source": [
    "Data includes \n",
    "\n",
    "A network of books about US politics published around the time of the 2004 presidential election and sold by the online bookseller Amazon.com.\n",
    "\n",
    "Number of nodes: 105\n",
    "Number of edges: 441"
   ]
  },
  {
   "cell_type": "markdown",
   "metadata": {},
   "source": [
    "## 2. Data Extraction <a id = 'extract'></a>"
   ]
  },
  {
   "cell_type": "markdown",
   "metadata": {},
   "source": [
    "**Import libraries**"
   ]
  },
  {
   "cell_type": "code",
   "execution_count": 20,
   "metadata": {},
   "outputs": [],
   "source": [
    "import networkx as nx"
   ]
  },
  {
   "cell_type": "markdown",
   "metadata": {},
   "source": [
    "**Load Graph Data** \n",
    "\n",
    "The data is in gml format. The gml format, an acronym for graph modelling language, provides capabilities to represent multiple networks and add arguments both to the nodes and the edges for visualization purposes.\n",
    "For the multiplexity in the ties the gml file distinguishes ``graphics`` arguments inside ``edge``. Both ``style`` and ``fill`` are supported here and the former has priority over the latter in case the two are given; otherwise when these arguments are absent, the function separates up to a couple of relational levels when several pairwise ties are specified."
   ]
  },
  {
   "cell_type": "code",
   "execution_count": 12,
   "metadata": {},
   "outputs": [],
   "source": [
    "df = nx.read_gml(r'C:\\Users\\nittalab\\Documents\\Personal\\CUNY\\DATA 620\\Project 1\\polbooks\\polbooks.gml', destringizer=None)"
   ]
  },
  {
   "cell_type": "code",
   "execution_count": 17,
   "metadata": {
    "scrolled": true
   },
   "outputs": [
    {
     "name": "stdout",
     "output_type": "stream",
     "text": [
      "Edges and Nodes for the dataset\n",
      "Name: \n",
      "Type: Graph\n",
      "Number of nodes: 105\n",
      "Number of edges: 441\n",
      "Average degree:   8.4000\n"
     ]
    }
   ],
   "source": [
    "print('Edges and Nodes for the dataset')\n",
    "print(nx.info(df))"
   ]
  },
  {
   "cell_type": "code",
   "execution_count": 18,
   "metadata": {
    "scrolled": true
   },
   "outputs": [
    {
     "data": {
      "text/plain": [
       "7"
      ]
     },
     "execution_count": 18,
     "metadata": {},
     "output_type": "execute_result"
    }
   ],
   "source": [
    "nx.diameter(df)"
   ]
  },
  {
   "cell_type": "markdown",
   "metadata": {},
   "source": [
    "From above, we now know the dimensions of the **network**"
   ]
  },
  {
   "cell_type": "markdown",
   "metadata": {},
   "source": [
    "## 3. Importing Key Libraries <a id = 'lib'></a>"
   ]
  },
  {
   "cell_type": "code",
   "execution_count": 21,
   "metadata": {},
   "outputs": [],
   "source": [
    "import pandas as pd\n",
    "import matplotlib.pyplot as plt\n",
    "from matplotlib import style\n",
    "import seaborn as sns\n",
    "style.use('fivethirtyeight')\n",
    "%matplotlib inline"
   ]
  },
  {
   "cell_type": "markdown",
   "metadata": {},
   "source": [
    "## 4. Data Cleaning <a id = 'clean'></a>"
   ]
  },
  {
   "cell_type": "code",
   "execution_count": 22,
   "metadata": {},
   "outputs": [],
   "source": [
    "import warnings\n",
    "warnings.filterwarnings('ignore')\n",
    "\n",
    "node_df = pd.DataFrame(list(df.nodes(data = True)))\n",
    "node_df.rename(columns= {0:'Nodes', 1: 'Values'}, inplace = True)\n",
    "node_df['Political_View'] = ''\n",
    "dict_view  = { 'l':'Liberal',\n",
    "             'c': 'Conservative',\n",
    "             'n': 'Neutral'}\n",
    "for x in range(len(node_df['Values'])):\n",
    "    pol_view = node_df['Values'][x]['value'] \n",
    "    node_df['Political_View'][x] = dict_view[pol_view]\n",
    "node_df.drop(['Values'], axis =1, inplace = True)"
   ]
  },
  {
   "cell_type": "code",
   "execution_count": 23,
   "metadata": {},
   "outputs": [
    {
     "data": {
      "text/html": [
       "<div>\n",
       "<style scoped>\n",
       "    .dataframe tbody tr th:only-of-type {\n",
       "        vertical-align: middle;\n",
       "    }\n",
       "\n",
       "    .dataframe tbody tr th {\n",
       "        vertical-align: top;\n",
       "    }\n",
       "\n",
       "    .dataframe thead th {\n",
       "        text-align: right;\n",
       "    }\n",
       "</style>\n",
       "<table border=\"1\" class=\"dataframe\">\n",
       "  <thead>\n",
       "    <tr style=\"text-align: right;\">\n",
       "      <th></th>\n",
       "      <th>Political_View</th>\n",
       "      <th>Nodes</th>\n",
       "    </tr>\n",
       "  </thead>\n",
       "  <tbody>\n",
       "    <tr>\n",
       "      <th>0</th>\n",
       "      <td>Conservative</td>\n",
       "      <td>49</td>\n",
       "    </tr>\n",
       "    <tr>\n",
       "      <th>1</th>\n",
       "      <td>Liberal</td>\n",
       "      <td>43</td>\n",
       "    </tr>\n",
       "    <tr>\n",
       "      <th>2</th>\n",
       "      <td>Neutral</td>\n",
       "      <td>13</td>\n",
       "    </tr>\n",
       "  </tbody>\n",
       "</table>\n",
       "</div>"
      ],
      "text/plain": [
       "  Political_View  Nodes\n",
       "0   Conservative     49\n",
       "1        Liberal     43\n",
       "2        Neutral     13"
      ]
     },
     "execution_count": 23,
     "metadata": {},
     "output_type": "execute_result"
    }
   ],
   "source": [
    "node_df.groupby(['Political_View']).count().reset_index()"
   ]
  },
  {
   "cell_type": "markdown",
   "metadata": {},
   "source": [
    "## 5.Exploratory Data Analysis <a id = 'eda'></a>"
   ]
  },
  {
   "cell_type": "markdown",
   "metadata": {},
   "source": [
    "#### A) Degree: the number of edges adjacent to each node.\n",
    " - Apply .degree() to each node \n",
    " - Merge node metadata \n",
    " - Display top 10 nodes \n",
    " - Group connection by political view "
   ]
  },
  {
   "cell_type": "code",
   "execution_count": 27,
   "metadata": {
    "scrolled": true
   },
   "outputs": [],
   "source": [
    "degree_values =[]\n",
    "for d in df.degree():\n",
    "    degree_values.append(d)\n",
    "degree_centrality = pd.DataFrame(degree_values)\n",
    "degree_centrality.rename(columns ={0:'Nodes', 1: 'Connection_Num'}, inplace = True)\n",
    "degree_centrality = degree_centrality.merge(node_df, how = 'left', on = ['Nodes'])"
   ]
  },
  {
   "cell_type": "code",
   "execution_count": 28,
   "metadata": {
    "scrolled": false
   },
   "outputs": [
    {
     "data": {
      "text/html": [
       "<div>\n",
       "<style scoped>\n",
       "    .dataframe tbody tr th:only-of-type {\n",
       "        vertical-align: middle;\n",
       "    }\n",
       "\n",
       "    .dataframe tbody tr th {\n",
       "        vertical-align: top;\n",
       "    }\n",
       "\n",
       "    .dataframe thead th {\n",
       "        text-align: right;\n",
       "    }\n",
       "</style>\n",
       "<table border=\"1\" class=\"dataframe\">\n",
       "  <thead>\n",
       "    <tr style=\"text-align: right;\">\n",
       "      <th></th>\n",
       "      <th>Nodes</th>\n",
       "      <th>Connection_Num</th>\n",
       "      <th>Political_View</th>\n",
       "    </tr>\n",
       "  </thead>\n",
       "  <tbody>\n",
       "    <tr>\n",
       "      <th>0</th>\n",
       "      <td>1000 Years for Revenge</td>\n",
       "      <td>6</td>\n",
       "      <td>Neutral</td>\n",
       "    </tr>\n",
       "    <tr>\n",
       "      <th>1</th>\n",
       "      <td>Bush vs. the Beltway</td>\n",
       "      <td>4</td>\n",
       "      <td>Conservative</td>\n",
       "    </tr>\n",
       "    <tr>\n",
       "      <th>2</th>\n",
       "      <td>Charlie Wilson's War</td>\n",
       "      <td>4</td>\n",
       "      <td>Conservative</td>\n",
       "    </tr>\n",
       "    <tr>\n",
       "      <th>3</th>\n",
       "      <td>Losing Bin Laden</td>\n",
       "      <td>23</td>\n",
       "      <td>Conservative</td>\n",
       "    </tr>\n",
       "    <tr>\n",
       "      <th>4</th>\n",
       "      <td>Sleeping With the Devil</td>\n",
       "      <td>8</td>\n",
       "      <td>Neutral</td>\n",
       "    </tr>\n",
       "    <tr>\n",
       "      <th>5</th>\n",
       "      <td>The Man Who Warned America</td>\n",
       "      <td>7</td>\n",
       "      <td>Conservative</td>\n",
       "    </tr>\n",
       "    <tr>\n",
       "      <th>6</th>\n",
       "      <td>Why America Slept</td>\n",
       "      <td>11</td>\n",
       "      <td>Neutral</td>\n",
       "    </tr>\n",
       "    <tr>\n",
       "      <th>7</th>\n",
       "      <td>Ghost Wars</td>\n",
       "      <td>8</td>\n",
       "      <td>Neutral</td>\n",
       "    </tr>\n",
       "    <tr>\n",
       "      <th>8</th>\n",
       "      <td>A National Party No More</td>\n",
       "      <td>25</td>\n",
       "      <td>Conservative</td>\n",
       "    </tr>\n",
       "    <tr>\n",
       "      <th>9</th>\n",
       "      <td>Bush Country</td>\n",
       "      <td>16</td>\n",
       "      <td>Conservative</td>\n",
       "    </tr>\n",
       "  </tbody>\n",
       "</table>\n",
       "</div>"
      ],
      "text/plain": [
       "                        Nodes  Connection_Num Political_View\n",
       "0      1000 Years for Revenge               6        Neutral\n",
       "1        Bush vs. the Beltway               4   Conservative\n",
       "2        Charlie Wilson's War               4   Conservative\n",
       "3            Losing Bin Laden              23   Conservative\n",
       "4     Sleeping With the Devil               8        Neutral\n",
       "5  The Man Who Warned America               7   Conservative\n",
       "6           Why America Slept              11        Neutral\n",
       "7                  Ghost Wars               8        Neutral\n",
       "8    A National Party No More              25   Conservative\n",
       "9                Bush Country              16   Conservative"
      ]
     },
     "execution_count": 28,
     "metadata": {},
     "output_type": "execute_result"
    }
   ],
   "source": [
    "degree_centrality.head(10)"
   ]
  },
  {
   "cell_type": "code",
   "execution_count": 29,
   "metadata": {
    "scrolled": true
   },
   "outputs": [
    {
     "data": {
      "text/html": [
       "<div>\n",
       "<style scoped>\n",
       "    .dataframe tbody tr th:only-of-type {\n",
       "        vertical-align: middle;\n",
       "    }\n",
       "\n",
       "    .dataframe tbody tr th {\n",
       "        vertical-align: top;\n",
       "    }\n",
       "\n",
       "    .dataframe thead th {\n",
       "        text-align: right;\n",
       "    }\n",
       "</style>\n",
       "<table border=\"1\" class=\"dataframe\">\n",
       "  <thead>\n",
       "    <tr style=\"text-align: right;\">\n",
       "      <th></th>\n",
       "      <th>Nodes</th>\n",
       "      <th>Connection_Num</th>\n",
       "      <th>Political_View</th>\n",
       "    </tr>\n",
       "  </thead>\n",
       "  <tbody>\n",
       "    <tr>\n",
       "      <th>75</th>\n",
       "      <td>Worse Than Watergate</td>\n",
       "      <td>16</td>\n",
       "      <td>Liberal</td>\n",
       "    </tr>\n",
       "    <tr>\n",
       "      <th>53</th>\n",
       "      <td>Why Courage Matters</td>\n",
       "      <td>5</td>\n",
       "      <td>Conservative</td>\n",
       "    </tr>\n",
       "    <tr>\n",
       "      <th>6</th>\n",
       "      <td>Why America Slept</td>\n",
       "      <td>11</td>\n",
       "      <td>Neutral</td>\n",
       "    </tr>\n",
       "    <tr>\n",
       "      <th>44</th>\n",
       "      <td>Who's Looking Out for You?</td>\n",
       "      <td>5</td>\n",
       "      <td>Conservative</td>\n",
       "    </tr>\n",
       "    <tr>\n",
       "      <th>96</th>\n",
       "      <td>What Liberal Media?</td>\n",
       "      <td>6</td>\n",
       "      <td>Liberal</td>\n",
       "    </tr>\n",
       "    <tr>\n",
       "      <th>98</th>\n",
       "      <td>Weapons of Mass Deception</td>\n",
       "      <td>5</td>\n",
       "      <td>Liberal</td>\n",
       "    </tr>\n",
       "    <tr>\n",
       "      <th>95</th>\n",
       "      <td>We're Right They're Wrong</td>\n",
       "      <td>4</td>\n",
       "      <td>Liberal</td>\n",
       "    </tr>\n",
       "    <tr>\n",
       "      <th>56</th>\n",
       "      <td>We Will Prevail</td>\n",
       "      <td>4</td>\n",
       "      <td>Conservative</td>\n",
       "    </tr>\n",
       "    <tr>\n",
       "      <th>33</th>\n",
       "      <td>Useful Idiots</td>\n",
       "      <td>9</td>\n",
       "      <td>Conservative</td>\n",
       "    </tr>\n",
       "    <tr>\n",
       "      <th>36</th>\n",
       "      <td>Those Who Trespass</td>\n",
       "      <td>5</td>\n",
       "      <td>Conservative</td>\n",
       "    </tr>\n",
       "  </tbody>\n",
       "</table>\n",
       "</div>"
      ],
      "text/plain": [
       "                         Nodes  Connection_Num Political_View\n",
       "75        Worse Than Watergate              16        Liberal\n",
       "53         Why Courage Matters               5   Conservative\n",
       "6            Why America Slept              11        Neutral\n",
       "44  Who's Looking Out for You?               5   Conservative\n",
       "96         What Liberal Media?               6        Liberal\n",
       "98   Weapons of Mass Deception               5        Liberal\n",
       "95   We're Right They're Wrong               4        Liberal\n",
       "56             We Will Prevail               4   Conservative\n",
       "33               Useful Idiots               9   Conservative\n",
       "36          Those Who Trespass               5   Conservative"
      ]
     },
     "execution_count": 29,
     "metadata": {},
     "output_type": "execute_result"
    }
   ],
   "source": [
    "degree_centrality.sort_values(['Nodes'], ascending= False).head(10)"
   ]
  },
  {
   "cell_type": "code",
   "execution_count": 30,
   "metadata": {
    "scrolled": true
   },
   "outputs": [
    {
     "data": {
      "text/html": [
       "<div>\n",
       "<style scoped>\n",
       "    .dataframe tbody tr th:only-of-type {\n",
       "        vertical-align: middle;\n",
       "    }\n",
       "\n",
       "    .dataframe tbody tr th {\n",
       "        vertical-align: top;\n",
       "    }\n",
       "\n",
       "    .dataframe thead th {\n",
       "        text-align: right;\n",
       "    }\n",
       "</style>\n",
       "<table border=\"1\" class=\"dataframe\">\n",
       "  <thead>\n",
       "    <tr style=\"text-align: right;\">\n",
       "      <th></th>\n",
       "      <th>Political_View</th>\n",
       "      <th>Connection_Num</th>\n",
       "    </tr>\n",
       "  </thead>\n",
       "  <tbody>\n",
       "    <tr>\n",
       "      <th>0</th>\n",
       "      <td>Conservative</td>\n",
       "      <td>426</td>\n",
       "    </tr>\n",
       "    <tr>\n",
       "      <th>1</th>\n",
       "      <td>Liberal</td>\n",
       "      <td>380</td>\n",
       "    </tr>\n",
       "    <tr>\n",
       "      <th>2</th>\n",
       "      <td>Neutral</td>\n",
       "      <td>76</td>\n",
       "    </tr>\n",
       "  </tbody>\n",
       "</table>\n",
       "</div>"
      ],
      "text/plain": [
       "  Political_View  Connection_Num\n",
       "0   Conservative             426\n",
       "1        Liberal             380\n",
       "2        Neutral              76"
      ]
     },
     "execution_count": 30,
     "metadata": {},
     "output_type": "execute_result"
    }
   ],
   "source": [
    "degree_centrality.groupby(['Political_View']).sum().reset_index()"
   ]
  },
  {
   "cell_type": "markdown",
   "metadata": {},
   "source": [
    "#### B) Degree Centrality:  the fraction of nodes it is connected to a particular node\n",
    " - Apply nx.degree_centrality() to each node \n",
    " - Merge node metadata \n",
    " - Display top 10 nodes \n",
    " - Group connection by political view for mean centrality degree"
   ]
  },
  {
   "cell_type": "code",
   "execution_count": 31,
   "metadata": {
    "scrolled": true
   },
   "outputs": [
    {
     "data": {
      "text/html": [
       "<div>\n",
       "<style scoped>\n",
       "    .dataframe tbody tr th:only-of-type {\n",
       "        vertical-align: middle;\n",
       "    }\n",
       "\n",
       "    .dataframe tbody tr th {\n",
       "        vertical-align: top;\n",
       "    }\n",
       "\n",
       "    .dataframe thead th {\n",
       "        text-align: right;\n",
       "    }\n",
       "</style>\n",
       "<table border=\"1\" class=\"dataframe\">\n",
       "  <thead>\n",
       "    <tr style=\"text-align: right;\">\n",
       "      <th></th>\n",
       "      <th>Nodes</th>\n",
       "      <th>Centrality Degree</th>\n",
       "      <th>Political_View</th>\n",
       "    </tr>\n",
       "  </thead>\n",
       "  <tbody>\n",
       "    <tr>\n",
       "      <th>0</th>\n",
       "      <td>A National Party No More</td>\n",
       "      <td>0.240385</td>\n",
       "      <td>Conservative</td>\n",
       "    </tr>\n",
       "    <tr>\n",
       "      <th>1</th>\n",
       "      <td>Off with Their Heads</td>\n",
       "      <td>0.240385</td>\n",
       "      <td>Conservative</td>\n",
       "    </tr>\n",
       "    <tr>\n",
       "      <th>2</th>\n",
       "      <td>Losing Bin Laden</td>\n",
       "      <td>0.221154</td>\n",
       "      <td>Conservative</td>\n",
       "    </tr>\n",
       "    <tr>\n",
       "      <th>3</th>\n",
       "      <td>Bushwhacked</td>\n",
       "      <td>0.221154</td>\n",
       "      <td>Liberal</td>\n",
       "    </tr>\n",
       "    <tr>\n",
       "      <th>4</th>\n",
       "      <td>American Dynasty</td>\n",
       "      <td>0.211538</td>\n",
       "      <td>Liberal</td>\n",
       "    </tr>\n",
       "    <tr>\n",
       "      <th>5</th>\n",
       "      <td>Big Lies</td>\n",
       "      <td>0.201923</td>\n",
       "      <td>Liberal</td>\n",
       "    </tr>\n",
       "    <tr>\n",
       "      <th>6</th>\n",
       "      <td>The Great Unraveling</td>\n",
       "      <td>0.201923</td>\n",
       "      <td>Liberal</td>\n",
       "    </tr>\n",
       "    <tr>\n",
       "      <th>7</th>\n",
       "      <td>The Price of Loyalty</td>\n",
       "      <td>0.192308</td>\n",
       "      <td>Liberal</td>\n",
       "    </tr>\n",
       "    <tr>\n",
       "      <th>8</th>\n",
       "      <td>Arrogance</td>\n",
       "      <td>0.173077</td>\n",
       "      <td>Conservative</td>\n",
       "    </tr>\n",
       "    <tr>\n",
       "      <th>9</th>\n",
       "      <td>Deliver Us from Evil</td>\n",
       "      <td>0.173077</td>\n",
       "      <td>Conservative</td>\n",
       "    </tr>\n",
       "  </tbody>\n",
       "</table>\n",
       "</div>"
      ],
      "text/plain": [
       "                      Nodes  Centrality Degree Political_View\n",
       "0  A National Party No More           0.240385   Conservative\n",
       "1      Off with Their Heads           0.240385   Conservative\n",
       "2          Losing Bin Laden           0.221154   Conservative\n",
       "3               Bushwhacked           0.221154        Liberal\n",
       "4          American Dynasty           0.211538        Liberal\n",
       "5                  Big Lies           0.201923        Liberal\n",
       "6      The Great Unraveling           0.201923        Liberal\n",
       "7      The Price of Loyalty           0.192308        Liberal\n",
       "8                 Arrogance           0.173077   Conservative\n",
       "9      Deliver Us from Evil           0.173077   Conservative"
      ]
     },
     "execution_count": 31,
     "metadata": {},
     "output_type": "execute_result"
    }
   ],
   "source": [
    "degree_c = nx.degree_centrality(df)\n",
    "degree_c_df = pd.DataFrame([degree_c.values()], columns=degree_c.keys()).reset_index()\n",
    "degree_c_df = degree_c_df.sort_values(by=0, ascending=False, axis=1).T.reset_index()\n",
    "degree_c_df.rename(columns ={'index':'Nodes', 0: 'Centrality Degree'}, inplace = True)\n",
    "degree_c_df= degree_c_df.merge(node_df, how = 'left', on = ['Nodes'])\n",
    "degree_c_df.head(10)"
   ]
  },
  {
   "cell_type": "code",
   "execution_count": 32,
   "metadata": {
    "scrolled": true
   },
   "outputs": [
    {
     "data": {
      "text/html": [
       "<div>\n",
       "<style scoped>\n",
       "    .dataframe tbody tr th:only-of-type {\n",
       "        vertical-align: middle;\n",
       "    }\n",
       "\n",
       "    .dataframe tbody tr th {\n",
       "        vertical-align: top;\n",
       "    }\n",
       "\n",
       "    .dataframe thead th {\n",
       "        text-align: right;\n",
       "    }\n",
       "</style>\n",
       "<table border=\"1\" class=\"dataframe\">\n",
       "  <thead>\n",
       "    <tr style=\"text-align: right;\">\n",
       "      <th></th>\n",
       "      <th>Political_View</th>\n",
       "      <th>Centrality Degree</th>\n",
       "    </tr>\n",
       "  </thead>\n",
       "  <tbody>\n",
       "    <tr>\n",
       "      <th>0</th>\n",
       "      <td>Liberal</td>\n",
       "      <td>0.084973</td>\n",
       "    </tr>\n",
       "    <tr>\n",
       "      <th>1</th>\n",
       "      <td>Conservative</td>\n",
       "      <td>0.083595</td>\n",
       "    </tr>\n",
       "    <tr>\n",
       "      <th>2</th>\n",
       "      <td>Neutral</td>\n",
       "      <td>0.056213</td>\n",
       "    </tr>\n",
       "  </tbody>\n",
       "</table>\n",
       "</div>"
      ],
      "text/plain": [
       "  Political_View  Centrality Degree\n",
       "0        Liberal           0.084973\n",
       "1   Conservative           0.083595\n",
       "2        Neutral           0.056213"
      ]
     },
     "execution_count": 32,
     "metadata": {},
     "output_type": "execute_result"
    }
   ],
   "source": [
    "degree_c_df.groupby(['Political_View']).mean().sort_values('Centrality Degree', ascending = False).reset_index()"
   ]
  },
  {
   "cell_type": "markdown",
   "metadata": {},
   "source": [
    "#### c) Eigenvector centrality: computes the centrality for a node based on the centrality of its neighbors. \n",
    "  - Apply  nx.eigenvector_centrality_numpy() to each node \n",
    "  - Merge node metadata \n",
    "  - Display top 10 nodes \n",
    "  - Group connection by political view for mean eigenvector centrality degree"
   ]
  },
  {
   "cell_type": "code",
   "execution_count": 33,
   "metadata": {
    "scrolled": true
   },
   "outputs": [
    {
     "data": {
      "text/html": [
       "<div>\n",
       "<style scoped>\n",
       "    .dataframe tbody tr th:only-of-type {\n",
       "        vertical-align: middle;\n",
       "    }\n",
       "\n",
       "    .dataframe tbody tr th {\n",
       "        vertical-align: top;\n",
       "    }\n",
       "\n",
       "    .dataframe thead th {\n",
       "        text-align: right;\n",
       "    }\n",
       "</style>\n",
       "<table border=\"1\" class=\"dataframe\">\n",
       "  <thead>\n",
       "    <tr style=\"text-align: right;\">\n",
       "      <th></th>\n",
       "      <th>Nodes</th>\n",
       "      <th>Eigenvector Centrality</th>\n",
       "      <th>Political_View</th>\n",
       "    </tr>\n",
       "  </thead>\n",
       "  <tbody>\n",
       "    <tr>\n",
       "      <th>0</th>\n",
       "      <td>Bushwhacked</td>\n",
       "      <td>0.296946</td>\n",
       "      <td>Liberal</td>\n",
       "    </tr>\n",
       "    <tr>\n",
       "      <th>1</th>\n",
       "      <td>Big Lies</td>\n",
       "      <td>0.284135</td>\n",
       "      <td>Liberal</td>\n",
       "    </tr>\n",
       "    <tr>\n",
       "      <th>2</th>\n",
       "      <td>American Dynasty</td>\n",
       "      <td>0.270838</td>\n",
       "      <td>Liberal</td>\n",
       "    </tr>\n",
       "    <tr>\n",
       "      <th>3</th>\n",
       "      <td>The Price of Loyalty</td>\n",
       "      <td>0.258594</td>\n",
       "      <td>Liberal</td>\n",
       "    </tr>\n",
       "    <tr>\n",
       "      <th>4</th>\n",
       "      <td>The Great Unraveling</td>\n",
       "      <td>0.254886</td>\n",
       "      <td>Liberal</td>\n",
       "    </tr>\n",
       "    <tr>\n",
       "      <th>5</th>\n",
       "      <td>The Lies of George W. Bush</td>\n",
       "      <td>0.241950</td>\n",
       "      <td>Liberal</td>\n",
       "    </tr>\n",
       "    <tr>\n",
       "      <th>6</th>\n",
       "      <td>Worse Than Watergate</td>\n",
       "      <td>0.237598</td>\n",
       "      <td>Liberal</td>\n",
       "    </tr>\n",
       "    <tr>\n",
       "      <th>7</th>\n",
       "      <td>Plan of Attack</td>\n",
       "      <td>0.198185</td>\n",
       "      <td>Neutral</td>\n",
       "    </tr>\n",
       "    <tr>\n",
       "      <th>8</th>\n",
       "      <td>Lies and the Lying Liars Who Tell Them</td>\n",
       "      <td>0.189236</td>\n",
       "      <td>Liberal</td>\n",
       "    </tr>\n",
       "    <tr>\n",
       "      <th>9</th>\n",
       "      <td>Against All Enemies</td>\n",
       "      <td>0.186726</td>\n",
       "      <td>Liberal</td>\n",
       "    </tr>\n",
       "  </tbody>\n",
       "</table>\n",
       "</div>"
      ],
      "text/plain": [
       "                                    Nodes  Eigenvector Centrality  \\\n",
       "0                             Bushwhacked                0.296946   \n",
       "1                                Big Lies                0.284135   \n",
       "2                        American Dynasty                0.270838   \n",
       "3                    The Price of Loyalty                0.258594   \n",
       "4                    The Great Unraveling                0.254886   \n",
       "5              The Lies of George W. Bush                0.241950   \n",
       "6                    Worse Than Watergate                0.237598   \n",
       "7                          Plan of Attack                0.198185   \n",
       "8  Lies and the Lying Liars Who Tell Them                0.189236   \n",
       "9                     Against All Enemies                0.186726   \n",
       "\n",
       "  Political_View  \n",
       "0        Liberal  \n",
       "1        Liberal  \n",
       "2        Liberal  \n",
       "3        Liberal  \n",
       "4        Liberal  \n",
       "5        Liberal  \n",
       "6        Liberal  \n",
       "7        Neutral  \n",
       "8        Liberal  \n",
       "9        Liberal  "
      ]
     },
     "execution_count": 33,
     "metadata": {},
     "output_type": "execute_result"
    }
   ],
   "source": [
    "eigenvector_c = nx.eigenvector_centrality_numpy(df)\n",
    "eigen_c_df = pd.DataFrame([eigenvector_c.values()], columns=eigenvector_c.keys())\n",
    "eigen_c_df = eigen_c_df.sort_values(by=0, ascending=False, axis=1).T.reset_index()\n",
    "eigen_c_df.rename(columns ={'index':'Nodes', 0: 'Eigenvector Centrality'}, inplace = True)\n",
    "eigen_c_df= eigen_c_df.merge(node_df, how = 'left', on = ['Nodes'])\n",
    "eigen_c_df.head(10)"
   ]
  },
  {
   "cell_type": "code",
   "execution_count": 34,
   "metadata": {
    "scrolled": true
   },
   "outputs": [
    {
     "data": {
      "text/html": [
       "<div>\n",
       "<style scoped>\n",
       "    .dataframe tbody tr th:only-of-type {\n",
       "        vertical-align: middle;\n",
       "    }\n",
       "\n",
       "    .dataframe tbody tr th {\n",
       "        vertical-align: top;\n",
       "    }\n",
       "\n",
       "    .dataframe thead th {\n",
       "        text-align: right;\n",
       "    }\n",
       "</style>\n",
       "<table border=\"1\" class=\"dataframe\">\n",
       "  <thead>\n",
       "    <tr style=\"text-align: right;\">\n",
       "      <th></th>\n",
       "      <th>Political_View</th>\n",
       "      <th>Eigenvector Centrality</th>\n",
       "    </tr>\n",
       "  </thead>\n",
       "  <tbody>\n",
       "    <tr>\n",
       "      <th>0</th>\n",
       "      <td>Liberal</td>\n",
       "      <td>0.117151</td>\n",
       "    </tr>\n",
       "    <tr>\n",
       "      <th>1</th>\n",
       "      <td>Neutral</td>\n",
       "      <td>0.038171</td>\n",
       "    </tr>\n",
       "    <tr>\n",
       "      <th>2</th>\n",
       "      <td>Conservative</td>\n",
       "      <td>0.037308</td>\n",
       "    </tr>\n",
       "  </tbody>\n",
       "</table>\n",
       "</div>"
      ],
      "text/plain": [
       "  Political_View  Eigenvector Centrality\n",
       "0        Liberal                0.117151\n",
       "1        Neutral                0.038171\n",
       "2   Conservative                0.037308"
      ]
     },
     "execution_count": 34,
     "metadata": {},
     "output_type": "execute_result"
    }
   ],
   "source": [
    "eigen_c_df.groupby(['Political_View']).mean().sort_values('Eigenvector Centrality', ascending = False).reset_index()"
   ]
  },
  {
   "cell_type": "markdown",
   "metadata": {},
   "source": [
    "## 6.Solutions <a id = 'sol'></a>"
   ]
  },
  {
   "cell_type": "markdown",
   "metadata": {},
   "source": [
    "**Graphs** \n",
    "\n",
    "The first graph will be for the Domestic movies and tv shows. The graphs are very similar in shape but the International graph is a bit more clustered in the centered when compared to the Domestic graph. "
   ]
  },
  {
   "cell_type": "code",
   "execution_count": 35,
   "metadata": {},
   "outputs": [],
   "source": [
    "# for each node in the graph\n",
    "node_color = []\n",
    "for node in df.nodes(data=True):\n",
    "    pol_view = node[1]['value']\n",
    "    if pol_view == 'c':\n",
    "        node_color.append('red')\n",
    "    elif pol_view == 'l':\n",
    "        node_color.append('blue')\n",
    "    elif pol_view == 'n':\n",
    "        node_color.append('green')"
   ]
  },
  {
   "cell_type": "code",
   "execution_count": 46,
   "metadata": {},
   "outputs": [
    {
     "data": {
      "image/png": "[encoded data removed]",
      "text/plain": [
       "<Figure size 432x288 with 1 Axes>"
      ]
     },
     "metadata": {},
     "output_type": "display_data"
    },
    {
     "data": {
      "text/plain": [
       "<Figure size 432x288 with 0 Axes>"
      ]
     },
     "metadata": {},
     "output_type": "display_data"
    }
   ],
   "source": [
    "nx.draw(df, \n",
    "        with_labels = False, \n",
    "        node_size = 50, \n",
    "        width = 0.2,\n",
    "        node_color=node_color)\n",
    "plt.show()\n",
    "plt.savefig(\"graph.png\", dpi=500)"
   ]
  },
  {
   "cell_type": "code",
   "execution_count": 48,
   "metadata": {},
   "outputs": [],
   "source": [
    "nx.write_gexf(df,'degree_eigenvector_centrality.gexf')"
   ]
  }
 ],
 "metadata": {
  "kernelspec": {
   "display_name": "Python 3",
   "language": "python",
   "name": "python3"
  },
  "language_info": {
   "codemirror_mode": {
    "name": "ipython",
    "version": 3
   },
   "file_extension": ".py",
   "mimetype": "text/x-python",
   "name": "python",
   "nbconvert_exporter": "python",
   "pygments_lexer": "ipython3",
   "version": "3.8.5"
  }
 },
 "nbformat": 4,
 "nbformat_minor": 4
}
