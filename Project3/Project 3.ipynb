{
 "cells": [
  {
   "cell_type": "markdown",
   "metadata": {},
   "source": [
    "# Project 3 - Gender Classifier\n",
    "### Authors: John Mazon, LeTicia Cancel, Bharani Nitalla\n",
    "\n",
    "**Video:**\n",
    "\n",
    "**Assignment:** Using any of the three classifiers described in chapter 6 of Natural Language Processing with Python, and any features you can think of, build the best name gender classifier you can.\n",
    "\n",
    "Begin by splitting the Names Corpus into three subsets: 500 words for the test set, 500 words for the devtest set, and the remaining 6900 words for the training set. Then, starting with the example name gender classifier, make incremental improvements. Use the dev-test set to check your progress. Once you are satisfied with your classifier, check its final performance on the test set.\n",
    "\n",
    "How does the performance on the test set compare to the performance on the dev-test set? Is this what you'd expect?\n"
   ]
  },
  {
   "cell_type": "code",
   "execution_count": 51,
   "metadata": {},
   "outputs": [],
   "source": [
    "# Libraries\n",
    "import nltk\n",
    "from nltk.corpus import names\n",
    "import random\n",
    "from nltk.classify import apply_features"
   ]
  },
  {
   "cell_type": "markdown",
   "metadata": {},
   "source": [
    "## Load Data\n",
    "\n",
    "Using the code found in chapter 6 of Natural Language Processing with Python we are going to do Supervised Classification using the Names corpus. We labeled each name by gender when loading the names files into a list and then shuffled the list to make the list order random. We then check the length of the list, and we can see that we have a total of 7,944 names and each name is labeled 'male' or 'female' based on which text file it was imported from."
   ]
  },
  {
   "cell_type": "code",
   "execution_count": 52,
   "metadata": {},
   "outputs": [],
   "source": [
    "# Split male and female names\n",
    "names = ([(name, 'male') for name in names.words('male.txt')] +\n",
    "        [(name, 'female') for name in names.words('female.txt')])"
   ]
  },
  {
   "cell_type": "code",
   "execution_count": 53,
   "metadata": {},
   "outputs": [],
   "source": [
    "# shuffle the names list in random order\n",
    "random.shuffle(names)"
   ]
  },
  {
   "cell_type": "code",
   "execution_count": 54,
   "metadata": {},
   "outputs": [
    {
     "data": {
      "text/plain": [
       "[('Westleigh', 'male'),\n",
       " ('Randolph', 'male'),\n",
       " ('Wayland', 'male'),\n",
       " ('Tabitha', 'female'),\n",
       " ('Rees', 'male'),\n",
       " ('Pippy', 'female'),\n",
       " ('Sarette', 'female'),\n",
       " ('French', 'male'),\n",
       " ('Neilla', 'female'),\n",
       " ('Silva', 'female')]"
      ]
     },
     "execution_count": 54,
     "metadata": {},
     "output_type": "execute_result"
    }
   ],
   "source": [
    "names[:10]"
   ]
  },
  {
   "cell_type": "code",
   "execution_count": 55,
   "metadata": {},
   "outputs": [
    {
     "data": {
      "text/plain": [
       "7944"
      ]
     },
     "execution_count": 55,
     "metadata": {},
     "output_type": "execute_result"
    }
   ],
   "source": [
    "len(names)"
   ]
  },
  {
   "cell_type": "markdown",
   "metadata": {},
   "source": [
    "## Classify Names Dataset\n",
    "\n",
    "When creating our names classifier, we must decide which name features are relevant in predicting if a name belongs to a male or female. We begin first by using exactly what is in the textbook to see how this performs on our dataset before exploring features of our own. \n",
    "\n",
    "The gender_features function takes each name and takes three features we specified and loads them to a dictionary. The three features we will look at are last letter, length of name, and first name. We then test the function using the name John to make sure the features dictionary returns the correct information."
   ]
  },
  {
   "cell_type": "code",
   "execution_count": 56,
   "metadata": {},
   "outputs": [],
   "source": [
    "def gender_features(word):\n",
    "    features = {}\n",
    "    features['last_letter'] = word[-1]\n",
    "    features['word_len'] = len(word) \n",
    "    features['first_letter'] = word[0]\n",
    "    return features"
   ]
  },
  {
   "cell_type": "code",
   "execution_count": 57,
   "metadata": {},
   "outputs": [
    {
     "data": {
      "text/plain": [
       "{'last_letter': 'n', 'word_len': 4, 'first_letter': 'J'}"
      ]
     },
     "execution_count": 57,
     "metadata": {},
     "output_type": "execute_result"
    }
   ],
   "source": [
    "gender_features('John')"
   ]
  },
  {
   "cell_type": "markdown",
   "metadata": {},
   "source": [
    "Now that we see the function works for our test name John, we run the function for every name in the names list and save this dictionary to the featuresets variable. So, every name in the list will have dictionary values like the above test we did with the name John. The data is split into a training and test set using an equal number of names for each set. We then use the training set to train a Naive Bayes classifier. When we print the accuracy of this classifier, we can see that it has a 79% accuracy. We will continue with this training set and then in part 2 we will add more features to the classifier so we can raise the accuracy score.  "
   ]
  },
  {
   "cell_type": "code",
   "execution_count": 58,
   "metadata": {},
   "outputs": [
    {
     "name": "stdout",
     "output_type": "stream",
     "text": [
      "0.794\n"
     ]
    }
   ],
   "source": [
    "featuresets = [(gender_features(n), g) for n,g in names]\n",
    "train_set, test_set = featuresets[500:], featuresets[:500]\n",
    "classifier = nltk.NaiveBayesClassifier.train(train_set)\n",
    "print (nltk.classify.accuracy(classifier, test_set))"
   ]
  },
  {
   "cell_type": "markdown",
   "metadata": {},
   "source": [
    "Using the show_most_imformative_features function we can see that the last letter is the most effective in distinguishing the gender. We can see the likelihood ratios for 5 letters. Names that end in the letter A are 34 times more likely to be a female name than male and names ending in the letter V are also more likely to be female. "
   ]
  },
  {
   "cell_type": "code",
   "execution_count": 59,
   "metadata": {},
   "outputs": [
    {
     "name": "stdout",
     "output_type": "stream",
     "text": [
      "Most Informative Features\n",
      "             last_letter = 'a'            female : male   =     34.4 : 1.0\n",
      "             last_letter = 'k'              male : female =     30.9 : 1.0\n",
      "             last_letter = 'f'              male : female =     15.1 : 1.0\n",
      "             last_letter = 'p'              male : female =     11.1 : 1.0\n",
      "             last_letter = 'v'              male : female =     11.1 : 1.0\n"
     ]
    }
   ],
   "source": [
    "classifier.show_most_informative_features(5)"
   ]
  },
  {
   "cell_type": "markdown",
   "metadata": {},
   "source": [
    "We modify the training and test sets using the apply_features function. According to the textbook this is the best way to store the results of the gender_features function when you have a large corpora. We will apply the features in a different way later, but this was good practice. "
   ]
  },
  {
   "cell_type": "code",
   "execution_count": 60,
   "metadata": {},
   "outputs": [],
   "source": [
    "train_set = apply_features(gender_features, names[500:])\n",
    "test_set = apply_features(gender_features, names[500:])"
   ]
  },
  {
   "cell_type": "markdown",
   "metadata": {},
   "source": [
    "Now we split the names list according to the project guidelines, 500 test names, 500 devtest_names, and the remainder as training names. "
   ]
  },
  {
   "cell_type": "code",
   "execution_count": 61,
   "metadata": {},
   "outputs": [],
   "source": [
    "train_names = names[6900:]\n",
    "devtest_names = names[500:1000]\n",
    "test_names = names[:500]"
   ]
  },
  {
   "cell_type": "markdown",
   "metadata": {},
   "source": [
    "We run the gender_features for each of the names sets, run the Naives Bayes classifier and then check the accuracy. The accuracy for the devtest_set is 77% which is slightly lower than the test_set classifier we inspected earlier. "
   ]
  },
  {
   "cell_type": "code",
   "execution_count": 62,
   "metadata": {},
   "outputs": [
    {
     "name": "stdout",
     "output_type": "stream",
     "text": [
      "0.77\n"
     ]
    }
   ],
   "source": [
    "train_set = [(gender_features(n), g) for (n,g) in train_names]\n",
    "devtest_set = [(gender_features(n), g) for (n,g) in devtest_names]\n",
    "test_set = [(gender_features(n), g) for (n,g) in test_names]\n",
    "classifier = nltk.NaiveBayesClassifier.train(train_set)\n",
    "print(nltk.classify.accuracy(classifier, devtest_set))"
   ]
  },
  {
   "cell_type": "markdown",
   "metadata": {},
   "source": [
    "## Error Analysis\n",
    "\n",
    "Using the devtest_names set we do an error analysis to see how many times the classifier incorrectly predicts name genders. All of the classifier errors are stored in the error variable and we can see that 115 incorrect predictions were made which is 23% of the devtest set. "
   ]
  },
  {
   "cell_type": "code",
   "execution_count": 63,
   "metadata": {
    "scrolled": true
   },
   "outputs": [
    {
     "name": "stdout",
     "output_type": "stream",
     "text": [
      "Number of errors:  115\n",
      "Number of devtest names:  500\n",
      "Error rate:  0.23\n"
     ]
    }
   ],
   "source": [
    "errors = []\n",
    "for (name, tag) in devtest_names:\n",
    "    guess = classifier.classify(gender_features(name))\n",
    "    if guess != tag:\n",
    "        errors.append((tag, guess, name))\n",
    "print('Number of errors: ',len(errors))\n",
    "print('Number of devtest names: ',len(devtest_names))\n",
    "print('Error rate: ', len(errors)/len(devtest_names))"
   ]
  },
  {
   "cell_type": "markdown",
   "metadata": {},
   "source": [
    "We examine each name in the error set so we can try to find patterns that can be used in the new gender_features function."
   ]
  },
  {
   "cell_type": "code",
   "execution_count": 64,
   "metadata": {},
   "outputs": [
    {
     "name": "stdout",
     "output_type": "stream",
     "text": [
      "correct=female   guess=male     name=Beitris                       \n",
      "correct=female   guess=male     name=Bel                           \n",
      "correct=female   guess=male     name=Carolann                      \n",
      "correct=female   guess=male     name=Carolin                       \n",
      "correct=female   guess=male     name=Cathyleen                     \n",
      "correct=female   guess=male     name=Charmian                      \n",
      "correct=female   guess=male     name=Clovis                        \n",
      "correct=female   guess=male     name=Doris                         \n",
      "correct=female   guess=male     name=Dot                           \n",
      "correct=female   guess=male     name=Edith                         \n",
      "correct=female   guess=male     name=Eilis                         \n",
      "correct=female   guess=male     name=Elyn                          \n",
      "correct=female   guess=male     name=Ester                         \n",
      "correct=female   guess=male     name=Esther                        \n",
      "correct=female   guess=male     name=Ethelyn                       \n",
      "correct=female   guess=male     name=Evangelin                     \n",
      "correct=female   guess=male     name=Flower                        \n",
      "correct=female   guess=male     name=Harley                        \n",
      "correct=female   guess=male     name=Harriott                      \n",
      "correct=female   guess=male     name=Hester                        \n",
      "correct=female   guess=male     name=Imogen                        \n",
      "correct=female   guess=male     name=Isador                        \n",
      "correct=female   guess=male     name=Marris                        \n",
      "correct=female   guess=male     name=Mead                          \n",
      "correct=female   guess=male     name=Mikako                        \n",
      "correct=female   guess=male     name=Nil                           \n",
      "correct=female   guess=male     name=Pru                           \n",
      "correct=female   guess=male     name=Quentin                       \n",
      "correct=female   guess=male     name=Remy                          \n",
      "correct=female   guess=male     name=Renell                        \n",
      "correct=female   guess=male     name=Rhiamon                       \n",
      "correct=female   guess=male     name=Rosario                       \n",
      "correct=female   guess=male     name=Roselyn                       \n",
      "correct=female   guess=male     name=Ruth                          \n",
      "correct=female   guess=male     name=Sharron                       \n",
      "correct=female   guess=male     name=Sheila-Kathryn                \n",
      "correct=female   guess=male     name=Sherilyn                      \n",
      "correct=female   guess=male     name=Shirah                        \n",
      "correct=female   guess=male     name=Starr                         \n",
      "correct=female   guess=male     name=Tess                          \n",
      "correct=female   guess=male     name=Theo                          \n",
      "correct=female   guess=male     name=Tracey                        \n",
      "correct=female   guess=male     name=Zorah                         \n",
      "correct=male     guess=female   name=Alaa                          \n",
      "correct=male     guess=female   name=Ambrose                       \n",
      "correct=male     guess=female   name=Amery                         \n",
      "correct=male     guess=female   name=Andy                          \n",
      "correct=male     guess=female   name=Artie                         \n",
      "correct=male     guess=female   name=Arvin                         \n",
      "correct=male     guess=female   name=Ash                           \n",
      "correct=male     guess=female   name=Barnabe                       \n",
      "correct=male     guess=female   name=Barri                         \n",
      "correct=male     guess=female   name=Bartolomei                    \n",
      "correct=male     guess=female   name=Bernie                        \n",
      "correct=male     guess=female   name=Binky                         \n",
      "correct=male     guess=female   name=Carlyle                       \n",
      "correct=male     guess=female   name=Chancey                       \n",
      "correct=male     guess=female   name=Charlie                       \n",
      "correct=male     guess=female   name=Cody                          \n",
      "correct=male     guess=female   name=Corrie                        \n",
      "correct=male     guess=female   name=Daryl                         \n",
      "correct=male     guess=female   name=Derron                        \n",
      "correct=male     guess=female   name=Doug                          \n",
      "correct=male     guess=female   name=Dwaine                        \n",
      "correct=male     guess=female   name=Fonzie                        \n",
      "correct=male     guess=female   name=Gabe                          \n",
      "correct=male     guess=female   name=Giavani                       \n",
      "correct=male     guess=female   name=Godfrey                       \n",
      "correct=male     guess=female   name=Harry                         \n",
      "correct=male     guess=female   name=Hasty                         \n",
      "correct=male     guess=female   name=Henrie                        \n",
      "correct=male     guess=female   name=Jackson                       \n",
      "correct=male     guess=female   name=Jefferson                     \n",
      "correct=male     guess=female   name=Jeffry                        \n",
      "correct=male     guess=female   name=Jeramie                       \n",
      "correct=male     guess=female   name=Jermaine                      \n",
      "correct=male     guess=female   name=Jerry                         \n",
      "correct=male     guess=female   name=Joey                          \n",
      "correct=male     guess=female   name=Judah                         \n",
      "correct=male     guess=female   name=Klee                          \n",
      "correct=male     guess=female   name=Lane                          \n",
      "correct=male     guess=female   name=Layton                        \n",
      "correct=male     guess=female   name=Leroy                         \n",
      "correct=male     guess=female   name=Loren                         \n",
      "correct=male     guess=female   name=Maddie                        \n",
      "correct=male     guess=female   name=Marilu                        \n",
      "correct=male     guess=female   name=Mervin                        \n",
      "correct=male     guess=female   name=Micah                         \n",
      "correct=male     guess=female   name=Michale                       \n",
      "correct=male     guess=female   name=Mikel                         \n",
      "correct=male     guess=female   name=Mitchael                      \n",
      "correct=male     guess=female   name=Morley                        \n",
      "correct=male     guess=female   name=Morrie                        \n",
      "correct=male     guess=female   name=Neddie                        \n",
      "correct=male     guess=female   name=Neddy                         \n",
      "correct=male     guess=female   name=Neville                       \n",
      "correct=male     guess=female   name=Nikita                        \n",
      "correct=male     guess=female   name=Niven                         \n",
      "correct=male     guess=female   name=Pace                          \n",
      "correct=male     guess=female   name=Pepe                          \n",
      "correct=male     guess=female   name=Phillipe                      \n",
      "correct=male     guess=female   name=Robbie                        \n",
      "correct=male     guess=female   name=Roddie                        \n",
      "correct=male     guess=female   name=Rodge                         \n",
      "correct=male     guess=female   name=Rustie                        \n",
      "correct=male     guess=female   name=Shelby                        \n",
      "correct=male     guess=female   name=Skye                          \n",
      "correct=male     guess=female   name=Sly                           \n",
      "correct=male     guess=female   name=Sollie                        \n",
      "correct=male     guess=female   name=Stevie                        \n",
      "correct=male     guess=female   name=Sunny                         \n",
      "correct=male     guess=female   name=Tabbie                        \n",
      "correct=male     guess=female   name=Tedie                         \n",
      "correct=male     guess=female   name=Thornie                       \n",
      "correct=male     guess=female   name=Zacherie                      \n"
     ]
    }
   ],
   "source": [
    "for (tag, guess, name) in sorted(errors): # doctest: +ELLIPSIS +NORMALIZE_WHITESPACE\n",
    "    print ('correct=%-8s guess=%-8s name=%-30s' % (tag, guess, name))"
   ]
  },
  {
   "cell_type": "markdown",
   "metadata": {},
   "source": [
    "We modify the gender_features function to also look at vowels in each name, the first two letters, the last two letters, and the length of the name. Now we will perform all the steps to see if we get better results."
   ]
  },
  {
   "cell_type": "code",
   "execution_count": 65,
   "metadata": {},
   "outputs": [],
   "source": [
    "def gender_features(word):\n",
    "    features = {}\n",
    "    if any(vow in word for vow in 'aeiou'):\n",
    "        features['vowel'] = True\n",
    "    else:\n",
    "        features['vowel'] = False\n",
    "    features['last_letter'] = word[-1]\n",
    "    features['letter_two'] = word[-2]\n",
    "    features['word_len'] = len(word) \n",
    "    features['first_letter'] = word[0]\n",
    "    features['second_letter'] = word[1]\n",
    "    return features"
   ]
  },
  {
   "cell_type": "markdown",
   "metadata": {},
   "source": [
    "The accuracy remains the same at 77%."
   ]
  },
  {
   "cell_type": "code",
   "execution_count": 66,
   "metadata": {},
   "outputs": [
    {
     "name": "stdout",
     "output_type": "stream",
     "text": [
      "0.772\n"
     ]
    }
   ],
   "source": [
    "train_set = [(gender_features(n), g) for (n,g) in train_names]\n",
    "devtest_set = [(gender_features(n), g) for (n,g) in devtest_names]\n",
    "test_set = [(gender_features(n), g) for (n,g) in test_names]\n",
    "classifier = nltk.NaiveBayesClassifier.train(train_set)\n",
    "print(nltk.classify.accuracy(classifier, devtest_set))"
   ]
  },
  {
   "cell_type": "markdown",
   "metadata": {},
   "source": [
    "When we do our error analysis the number of errors is also very similar to the first test."
   ]
  },
  {
   "cell_type": "code",
   "execution_count": 67,
   "metadata": {
    "scrolled": true
   },
   "outputs": [
    {
     "name": "stdout",
     "output_type": "stream",
     "text": [
      "Number of errors:  114\n",
      "Number of devtest names:  500\n",
      "Error rate:  0.228\n"
     ]
    }
   ],
   "source": [
    "errors = []\n",
    "for (name, tag) in devtest_names:\n",
    "    guess = classifier.classify(gender_features(name))\n",
    "    if guess != tag:\n",
    "        errors.append((tag, guess, name))\n",
    "print('Number of errors: ',len(errors))\n",
    "print('Number of devtest names: ',len(devtest_names))\n",
    "print('Error rate: ', len(errors)/len(devtest_names))"
   ]
  },
  {
   "cell_type": "markdown",
   "metadata": {},
   "source": [
    "## Final Performance Test\n",
    "\n",
    "Using the test_set we will check the accuracy and do an error analysis."
   ]
  },
  {
   "cell_type": "code",
   "execution_count": 68,
   "metadata": {},
   "outputs": [
    {
     "name": "stdout",
     "output_type": "stream",
     "text": [
      "0.798\n"
     ]
    }
   ],
   "source": [
    "print(nltk.classify.accuracy(classifier, test_set))"
   ]
  },
  {
   "cell_type": "code",
   "execution_count": 69,
   "metadata": {},
   "outputs": [
    {
     "name": "stdout",
     "output_type": "stream",
     "text": [
      "Number of errors:  101\n",
      "Number of devtest names:  500\n",
      "Error rate:  0.202\n"
     ]
    }
   ],
   "source": [
    "errors = []\n",
    "for (name, tag) in test_names:\n",
    "    guess = classifier.classify(gender_features(name))\n",
    "    if guess != tag:\n",
    "        errors.append((tag, guess, name))\n",
    "print('Number of errors: ',len(errors))\n",
    "print('Number of devtest names: ',len(test_names))\n",
    "print('Error rate: ', len(errors)/len(test_names))"
   ]
  },
  {
   "cell_type": "code",
   "execution_count": 70,
   "metadata": {},
   "outputs": [
    {
     "name": "stdout",
     "output_type": "stream",
     "text": [
      "correct=female   guess=male     name=Aileen                        \n",
      "correct=female   guess=male     name=Ajay                          \n",
      "correct=female   guess=male     name=Alexis                        \n",
      "correct=female   guess=male     name=Alis                          \n",
      "correct=female   guess=male     name=Avivah                        \n",
      "correct=female   guess=male     name=Beret                         \n",
      "correct=female   guess=male     name=Brandice                      \n",
      "correct=female   guess=male     name=Carley                        \n",
      "correct=female   guess=male     name=Christean                     \n",
      "correct=female   guess=male     name=Chrystel                      \n",
      "correct=female   guess=male     name=Cristal                       \n",
      "correct=female   guess=male     name=Delilah                       \n",
      "correct=female   guess=male     name=Edin                          \n",
      "correct=female   guess=male     name=Esme                          \n",
      "correct=female   guess=male     name=Evaleen                       \n",
      "correct=female   guess=male     name=Fran                          \n",
      "correct=female   guess=male     name=Francis                       \n",
      "correct=female   guess=male     name=Gert                          \n",
      "correct=female   guess=male     name=Ginnifer                      \n",
      "correct=female   guess=male     name=Glynnis                       \n",
      "correct=female   guess=male     name=Haleigh                       \n",
      "correct=female   guess=male     name=Harriot                       \n",
      "correct=female   guess=male     name=Hazel                         \n",
      "correct=female   guess=male     name=Isabeau                       \n",
      "correct=female   guess=male     name=Karon                         \n",
      "correct=female   guess=male     name=Kissiah                       \n",
      "correct=female   guess=male     name=Lamb                          \n",
      "correct=female   guess=male     name=Linnet                        \n",
      "correct=female   guess=male     name=Loreen                        \n",
      "correct=female   guess=male     name=Mareah                        \n",
      "correct=female   guess=male     name=Marleen                       \n",
      "correct=female   guess=male     name=Marlo                         \n",
      "correct=female   guess=male     name=Maryellen                     \n",
      "correct=female   guess=male     name=Megan                         \n",
      "correct=female   guess=male     name=Meggy                         \n",
      "correct=female   guess=male     name=Mercedes                      \n",
      "correct=female   guess=male     name=Miriam                        \n",
      "correct=female   guess=male     name=Norah                         \n",
      "correct=female   guess=male     name=Pippy                         \n",
      "correct=female   guess=male     name=Ranique                       \n",
      "correct=female   guess=male     name=Ray                           \n",
      "correct=female   guess=male     name=Rey                           \n",
      "correct=female   guess=male     name=Rosabel                       \n",
      "correct=female   guess=male     name=Sam                           \n",
      "correct=female   guess=male     name=Sarah                         \n",
      "correct=female   guess=male     name=Sean                          \n",
      "correct=female   guess=male     name=Stormy                        \n",
      "correct=female   guess=male     name=Susannah                      \n",
      "correct=female   guess=male     name=Tamiko                        \n",
      "correct=female   guess=male     name=Tracee                        \n",
      "correct=female   guess=male     name=Velvet                        \n",
      "correct=female   guess=male     name=Wilow                         \n",
      "correct=female   guess=male     name=Winifred                      \n",
      "correct=female   guess=male     name=Winonah                       \n",
      "correct=male     guess=female   name=Allin                         \n",
      "correct=male     guess=female   name=Alvin                         \n",
      "correct=male     guess=female   name=Arne                          \n",
      "correct=male     guess=female   name=Baily                         \n",
      "correct=male     guess=female   name=Bealle                        \n",
      "correct=male     guess=female   name=Bertie                        \n",
      "correct=male     guess=female   name=Brent                         \n",
      "correct=male     guess=female   name=Bucky                         \n",
      "correct=male     guess=female   name=Christ                        \n",
      "correct=male     guess=female   name=Cobby                         \n",
      "correct=male     guess=female   name=Darin                         \n",
      "correct=male     guess=female   name=Douglass                      \n",
      "correct=male     guess=female   name=Emmott                        \n",
      "correct=male     guess=female   name=Erny                          \n",
      "correct=male     guess=female   name=Eustace                       \n",
      "correct=male     guess=female   name=Freddy                        \n",
      "correct=male     guess=female   name=Garvin                        \n",
      "correct=male     guess=female   name=Guthry                        \n",
      "correct=male     guess=female   name=Haskell                       \n",
      "correct=male     guess=female   name=Helmuth                       \n",
      "correct=male     guess=female   name=Herve                         \n",
      "correct=male     guess=female   name=Ira                           \n",
      "correct=male     guess=female   name=Laurens                       \n",
      "correct=male     guess=female   name=Lawrence                      \n",
      "correct=male     guess=female   name=Leonardo                      \n",
      "correct=male     guess=female   name=Levi                          \n",
      "correct=male     guess=female   name=Manuel                        \n",
      "correct=male     guess=female   name=Marcel                        \n",
      "correct=male     guess=female   name=Melvyn                        \n",
      "correct=male     guess=female   name=Mikey                         \n",
      "correct=male     guess=female   name=Monty                         \n",
      "correct=male     guess=female   name=Morlee                        \n",
      "correct=male     guess=female   name=Pierre                        \n",
      "correct=male     guess=female   name=Sidney                        \n",
      "correct=male     guess=female   name=Sloane                        \n",
      "correct=male     guess=female   name=Smitty                        \n",
      "correct=male     guess=female   name=Stirling                      \n",
      "correct=male     guess=female   name=Tannie                        \n",
      "correct=male     guess=female   name=Tate                          \n",
      "correct=male     guess=female   name=Timothy                       \n",
      "correct=male     guess=female   name=Tonnie                        \n",
      "correct=male     guess=female   name=Tymothy                       \n",
      "correct=male     guess=female   name=Tyrone                        \n",
      "correct=male     guess=female   name=Verne                         \n",
      "correct=male     guess=female   name=Virgie                        \n",
      "correct=male     guess=female   name=Waine                         \n",
      "correct=male     guess=female   name=Wye                           \n"
     ]
    }
   ],
   "source": [
    "for (tag, guess, name) in sorted(errors): # doctest: +ELLIPSIS +NORMALIZE_WHITESPACE\n",
    "    print ('correct=%-8s guess=%-8s name=%-30s' % (tag, guess, name))"
   ]
  },
  {
   "cell_type": "markdown",
   "metadata": {},
   "source": [
    "## Conclusion\n",
    "\n",
    "The testset had a higher accuracy score than the devtest and the error percentage also decreased. By modifying the features function the expectation is that it will increase the accuracy and lower the error showing us that it is able to make good predictions. I think it is possible to improve on this even more. I would start by modifying the feature method to look at the number of vowels present in the name instead of just a True/False if a vowel exists. "
   ]
  },
  {
   "cell_type": "code",
   "execution_count": null,
   "metadata": {},
   "outputs": [],
   "source": []
  }
 ],
 "metadata": {
  "kernelspec": {
   "display_name": "Python 3",
   "language": "python",
   "name": "python3"
  },
  "language_info": {
   "codemirror_mode": {
    "name": "ipython",
    "version": 3
   },
   "file_extension": ".py",
   "mimetype": "text/x-python",
   "name": "python",
   "nbconvert_exporter": "python",
   "pygments_lexer": "ipython3",
   "version": "3.7.6"
  }
 },
 "nbformat": 4,
 "nbformat_minor": 4
}
