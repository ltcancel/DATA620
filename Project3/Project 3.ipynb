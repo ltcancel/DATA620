{
 "cells": [
  {
   "cell_type": "markdown",
   "metadata": {},
   "source": [
    "# Project 3 - Gender Classifier\n",
    "### Authors: John Mazon, LeTicia Cancel, Bharani Nitalla\n",
    "\n",
    "**Assignment:** Using any of the three classifiers described in chapter 6 of Natural Language Processing with Python, and any features you can think of, build the best name gender classifier you can.\n",
    "\n",
    "Begin by splitting the Names Corpus into three subsets: 500 words for the test set, 500 words for the devtest set, and the remaining 6900 words for the training set. Then, starting with the example name gender classifier, make incremental improvements. Use the dev-test set to check your progress. Once you are satisfied with your classifier, check its final performance on the test set.\n",
    "\n",
    "How does the performance on the test set compare to the performance on the dev-test set? Is this what you'd expect?\n"
   ]
  },
  {
   "cell_type": "code",
   "execution_count": 6,
   "metadata": {},
   "outputs": [],
   "source": [
    "# Libraries\n",
    "import nltk\n",
    "from nltk.corpus import names\n",
    "import random\n",
    "from nltk.classify import apply_features"
   ]
  },
  {
   "cell_type": "markdown",
   "metadata": {},
   "source": [
    "## Load Data\n",
    "\n",
    "Using the code found in chapter 6 of Natural Language Processing with Python we are going to do Supervised Classification using the Names corpus. We labeled each name by gender when loading the names files into a list and then shuffuled the list to make the list order random. We then check the length of the list and we can see that we have a total of 7,944 names and each name is labeled 'male' or 'female' based on which text file it was imported from. "
   ]
  },
  {
   "cell_type": "code",
   "execution_count": 7,
   "metadata": {},
   "outputs": [],
   "source": [
    "# Split male and female names\n",
    "names = ([(name, 'male') for name in names.words('male.txt')] +\n",
    "        [(name, 'female') for name in names.words('female.txt')])"
   ]
  },
  {
   "cell_type": "code",
   "execution_count": 8,
   "metadata": {},
   "outputs": [],
   "source": [
    "# shuffle the names list in random order\n",
    "random.shuffle(names)"
   ]
  },
  {
   "cell_type": "code",
   "execution_count": 9,
   "metadata": {},
   "outputs": [
    {
     "data": {
      "text/plain": [
       "[('Kayle', 'female'),\n",
       " ('Whitman', 'male'),\n",
       " ('Deryl', 'male'),\n",
       " ('Alden', 'male'),\n",
       " ('Mace', 'male'),\n",
       " ('Denyse', 'female'),\n",
       " ('Aretha', 'female'),\n",
       " ('Dianemarie', 'female'),\n",
       " ('Fitz', 'male'),\n",
       " ('Pacifica', 'female')]"
      ]
     },
     "execution_count": 9,
     "metadata": {},
     "output_type": "execute_result"
    }
   ],
   "source": [
    "names[:10]"
   ]
  },
  {
   "cell_type": "code",
   "execution_count": 10,
   "metadata": {},
   "outputs": [
    {
     "data": {
      "text/plain": [
       "7944"
      ]
     },
     "execution_count": 10,
     "metadata": {},
     "output_type": "execute_result"
    }
   ],
   "source": [
    "len(names)"
   ]
  },
  {
   "cell_type": "markdown",
   "metadata": {},
   "source": [
    "## Classify Names Dataset\n",
    "\n",
    "When creating our names classifier, we have to decide which name features are relevent in predicting if a name belongs to a male or female. We begin first by using exactly what is in the text book to see how this performs on our dataset before exploring features of our own. \n",
    "\n",
    "The gender_features function takes each name and takes three features we specified and loads them to a dictionary. The three features we will look at are last letter, length of name, and first name. We then test the funtion using the name John to make sure the features dictionary returns the correct information. "
   ]
  },
  {
   "cell_type": "code",
   "execution_count": 11,
   "metadata": {},
   "outputs": [],
   "source": [
    "def gender_features(word):\n",
    "    features = {}\n",
    "    features['last_letter'] = word[-1]\n",
    "    features['word_len'] = len(word) \n",
    "    features['first_letter'] = word[0]\n",
    "    return features"
   ]
  },
  {
   "cell_type": "code",
   "execution_count": 12,
   "metadata": {},
   "outputs": [
    {
     "data": {
      "text/plain": [
       "{'last_letter': 'n', 'word_len': 4, 'first_letter': 'J'}"
      ]
     },
     "execution_count": 12,
     "metadata": {},
     "output_type": "execute_result"
    }
   ],
   "source": [
    "gender_features('John')"
   ]
  },
  {
   "cell_type": "markdown",
   "metadata": {},
   "source": [
    "Now that we see the function works for our test name John, we run the function for every name in the names list and save this dictionary to the featuresets variable. So every name in the list will have dictionary values similar to the above test we did with the name John. The data is split into a training and test set using an equal number of names for each set. We then use the training set to train a Naive Bayes classifier. When we print the accuracy of this classifier, we can see that it has a 77% accuracy. We will continue with this training set and then in part 2 we will add more features to the classifier so we can raise the accuracy score.  "
   ]
  },
  {
   "cell_type": "code",
   "execution_count": 26,
   "metadata": {},
   "outputs": [
    {
     "name": "stdout",
     "output_type": "stream",
     "text": [
      "0.778\n"
     ]
    }
   ],
   "source": [
    "featuresets = [(gender_features(n), g) for n,g in names]\n",
    "train_set, test_set = featuresets[500:], featuresets[:500]\n",
    "classifier = nltk.NaiveBayesClassifier.train(train_set)\n",
    "print (nltk.classify.accuracy(classifier, test_set))"
   ]
  },
  {
   "cell_type": "markdown",
   "metadata": {},
   "source": [
    "Using the show_most_imformative_features function we can see that the last letter is the most effective in distinguishing the gender. We can see the likelihood ratios for 5 letters. Names that end in the letter K are 43.5 times more likely to be a male name than female and names ending in the letter V are more likely to be female. "
   ]
  },
  {
   "cell_type": "code",
   "execution_count": 15,
   "metadata": {},
   "outputs": [
    {
     "name": "stdout",
     "output_type": "stream",
     "text": [
      "Most Informative Features\n",
      "             last_letter = 'k'              male : female =     43.5 : 1.0\n",
      "             last_letter = 'a'            female : male   =     35.6 : 1.0\n",
      "             last_letter = 'f'              male : female =     17.2 : 1.0\n",
      "             last_letter = 'p'              male : female =     11.8 : 1.0\n",
      "             last_letter = 'v'              male : female =     10.4 : 1.0\n"
     ]
    }
   ],
   "source": [
    "classifier.show_most_informative_features(5)"
   ]
  },
  {
   "cell_type": "markdown",
   "metadata": {},
   "source": [
    "We modify the training and test sets using the apply_features function. According to the textbook this is the best way to store the results of the gender_features function when you have a large corpora. We will will apply the features in a different way later, but this was good practice. "
   ]
  },
  {
   "cell_type": "code",
   "execution_count": 167,
   "metadata": {},
   "outputs": [],
   "source": [
    "train_set = apply_features(gender_features, names[500:])\n",
    "test_set = apply_features(gender_features, names[500:])"
   ]
  },
  {
   "cell_type": "markdown",
   "metadata": {},
   "source": [
    "Now we split the names list according to the project guidlines, 500 test names, 500 devtest_names, and the remainder as training names. "
   ]
  },
  {
   "cell_type": "code",
   "execution_count": 17,
   "metadata": {},
   "outputs": [],
   "source": [
    "train_names = names[6900:]\n",
    "devtest_names = names[500:1000]\n",
    "test_names = names[:500]"
   ]
  },
  {
   "cell_type": "markdown",
   "metadata": {},
   "source": [
    "We run the gender_features for each of the names sets, run the Naives Bayes classifier and then check the accuracy. The accuracy for the devtest_set is 77% which is slightly lower than the test_set classifier we inspected earlier. "
   ]
  },
  {
   "cell_type": "code",
   "execution_count": 18,
   "metadata": {},
   "outputs": [
    {
     "name": "stdout",
     "output_type": "stream",
     "text": [
      "0.776\n"
     ]
    }
   ],
   "source": [
    "train_set = [(gender_features(n), g) for (n,g) in train_names]\n",
    "devtest_set = [(gender_features(n), g) for (n,g) in devtest_names]\n",
    "test_set = [(gender_features(n), g) for (n,g) in test_names]\n",
    "classifier = nltk.NaiveBayesClassifier.train(train_set)\n",
    "print(nltk.classify.accuracy(classifier, devtest_set))"
   ]
  },
  {
   "cell_type": "markdown",
   "metadata": {},
   "source": [
    "## Error Analysis\n",
    "\n",
    "Using the devtest_names set we do an error analysis to see how many many times the classifier incorrectly predicts name genders. All of the classifier errors are stored in the error variable and we can see that 115 incorrect predictions were made which is 22% of the devtest set. "
   ]
  },
  {
   "cell_type": "code",
   "execution_count": 22,
   "metadata": {
    "scrolled": true
   },
   "outputs": [
    {
     "name": "stdout",
     "output_type": "stream",
     "text": [
      "Number of errors:  112\n",
      "Number of devtest names:  500\n",
      "Error rate:  0.224\n"
     ]
    }
   ],
   "source": [
    "errors = []\n",
    "for (name, tag) in devtest_names:\n",
    "    guess = classifier.classify(gender_features(name))\n",
    "    if guess != tag:\n",
    "        errors.append((tag, guess, name))\n",
    "print('Number of errors: ',len(errors))\n",
    "print('Number of devtest names: ',len(devtest_names))\n",
    "print('Error rate: ', len(errors)/len(devtest_names))"
   ]
  },
  {
   "cell_type": "markdown",
   "metadata": {},
   "source": [
    "We examine each name in the error set so we can try to find patterns that can be used in the new gender_features function."
   ]
  },
  {
   "cell_type": "code",
   "execution_count": 171,
   "metadata": {},
   "outputs": [
    {
     "name": "stdout",
     "output_type": "stream",
     "text": [
      "correct=female   guess=male     name=Beilul                        \n",
      "correct=female   guess=male     name=Bren                          \n",
      "correct=female   guess=male     name=Carol                         \n",
      "correct=female   guess=male     name=Carol-Jean                    \n",
      "correct=female   guess=male     name=Carolin                       \n",
      "correct=female   guess=male     name=Cass                          \n",
      "correct=female   guess=male     name=Catlin                        \n",
      "correct=female   guess=male     name=Charil                        \n",
      "correct=female   guess=male     name=Chrystel                      \n",
      "correct=female   guess=male     name=Clem                          \n",
      "correct=female   guess=male     name=Corliss                       \n",
      "correct=female   guess=male     name=Cris                          \n",
      "correct=female   guess=male     name=Crystal                       \n",
      "correct=female   guess=male     name=Eadith                        \n",
      "correct=female   guess=male     name=Em                            \n",
      "correct=female   guess=male     name=Fay                           \n",
      "correct=female   guess=male     name=Gweneth                       \n",
      "correct=female   guess=male     name=Helge                         \n",
      "correct=female   guess=male     name=Hesther                       \n",
      "correct=female   guess=male     name=Jaclin                        \n",
      "correct=female   guess=male     name=Jacynth                       \n",
      "correct=female   guess=male     name=Janeen                        \n",
      "correct=female   guess=male     name=Jonis                         \n",
      "correct=female   guess=male     name=Joyan                         \n",
      "correct=female   guess=male     name=Karrah                        \n",
      "correct=female   guess=male     name=Karylin                       \n",
      "correct=female   guess=male     name=Katheleen                     \n",
      "correct=female   guess=male     name=Kay                           \n",
      "correct=female   guess=male     name=Keren                         \n",
      "correct=female   guess=male     name=Kial                          \n",
      "correct=female   guess=male     name=Kris                          \n",
      "correct=female   guess=male     name=Lisbeth                       \n",
      "correct=female   guess=male     name=Lou                           \n",
      "correct=female   guess=male     name=Lust                          \n",
      "correct=female   guess=male     name=Malcah                        \n",
      "correct=female   guess=male     name=Mariel                        \n",
      "correct=female   guess=male     name=Meagan                        \n",
      "correct=female   guess=male     name=Mikako                        \n",
      "correct=female   guess=male     name=Olwen                         \n",
      "correct=female   guess=male     name=Page                          \n",
      "correct=female   guess=male     name=Rachael                       \n",
      "correct=female   guess=male     name=Raychel                       \n",
      "correct=female   guess=male     name=Rosalynd                      \n",
      "correct=female   guess=male     name=Rozamond                      \n",
      "correct=female   guess=male     name=Shel                          \n",
      "correct=female   guess=male     name=Sinead                        \n",
      "correct=female   guess=male     name=Ted                           \n",
      "correct=female   guess=male     name=Veronique                     \n",
      "correct=male     guess=female   name=Ali                           \n",
      "correct=male     guess=female   name=Allie                         \n",
      "correct=male     guess=female   name=Archie                        \n",
      "correct=male     guess=female   name=Arvie                         \n",
      "correct=male     guess=female   name=Ave                           \n",
      "correct=male     guess=female   name=Averell                       \n",
      "correct=male     guess=female   name=Averil                        \n",
      "correct=male     guess=female   name=Bealle                        \n",
      "correct=male     guess=female   name=Broddy                        \n",
      "correct=male     guess=female   name=Brooke                        \n",
      "correct=male     guess=female   name=Bruce                         \n",
      "correct=male     guess=female   name=Bucky                         \n",
      "correct=male     guess=female   name=Charlie                       \n",
      "correct=male     guess=female   name=Cole                          \n",
      "correct=male     guess=female   name=Cortese                       \n",
      "correct=male     guess=female   name=Daryle                        \n",
      "correct=male     guess=female   name=Dell                          \n",
      "correct=male     guess=female   name=Dewey                         \n",
      "correct=male     guess=female   name=Edie                          \n",
      "correct=male     guess=female   name=Freddie                       \n",
      "correct=male     guess=female   name=Graeme                        \n",
      "correct=male     guess=female   name=Guillaume                     \n",
      "correct=male     guess=female   name=Harvey                        \n",
      "correct=male     guess=female   name=Hercule                       \n",
      "correct=male     guess=female   name=Jeffrey                       \n",
      "correct=male     guess=female   name=Jere                          \n",
      "correct=male     guess=female   name=Johny                         \n",
      "correct=male     guess=female   name=Jude                          \n",
      "correct=male     guess=female   name=Kelley                        \n",
      "correct=male     guess=female   name=Lonnie                        \n",
      "correct=male     guess=female   name=Maurice                       \n",
      "correct=male     guess=female   name=Maurise                       \n",
      "correct=male     guess=female   name=Maxie                         \n",
      "correct=male     guess=female   name=Melvyn                        \n",
      "correct=male     guess=female   name=Mickie                        \n",
      "correct=male     guess=female   name=Mikey                         \n",
      "correct=male     guess=female   name=Mischa                        \n",
      "correct=male     guess=female   name=Mitchell                      \n",
      "correct=male     guess=female   name=Moore                         \n",
      "correct=male     guess=female   name=Morrie                        \n",
      "correct=male     guess=female   name=Morse                         \n",
      "correct=male     guess=female   name=Nichole                       \n",
      "correct=male     guess=female   name=Parnell                       \n",
      "correct=male     guess=female   name=Pascale                       \n",
      "correct=male     guess=female   name=Patsy                         \n",
      "correct=male     guess=female   name=Pennie                        \n",
      "correct=male     guess=female   name=Phillipe                      \n",
      "correct=male     guess=female   name=Rabi                          \n",
      "correct=male     guess=female   name=Randell                       \n",
      "correct=male     guess=female   name=Rocky                         \n",
      "correct=male     guess=female   name=Sasha                         \n",
      "correct=male     guess=female   name=Shea                          \n",
      "correct=male     guess=female   name=Si                            \n",
      "correct=male     guess=female   name=Sidnee                        \n",
      "correct=male     guess=female   name=Solly                         \n",
      "correct=male     guess=female   name=Terri                         \n",
      "correct=male     guess=female   name=Tobe                          \n",
      "correct=male     guess=female   name=Toby                          \n",
      "correct=male     guess=female   name=Uli                           \n",
      "correct=male     guess=female   name=Valentine                     \n",
      "correct=male     guess=female   name=Walsh                         \n",
      "correct=male     guess=female   name=Waring                        \n",
      "correct=male     guess=female   name=Wayne                         \n",
      "correct=male     guess=female   name=Wiley                         \n",
      "correct=male     guess=female   name=Willy                         \n",
      "correct=male     guess=female   name=Woochang                      \n",
      "correct=male     guess=female   name=Yancy                         \n"
     ]
    }
   ],
   "source": [
    "for (tag, guess, name) in sorted(errors): # doctest: +ELLIPSIS +NORMALIZE_WHITESPACE\n",
    "    print ('correct=%-8s guess=%-8s name=%-30s' % (tag, guess, name))"
   ]
  },
  {
   "cell_type": "markdown",
   "metadata": {},
   "source": [
    "We modify the gender_features function to also look at vowels in each name, the first two letters, the last two letter, and the length of the name. Now we will perform all of the steps to see if we get better results. "
   ]
  },
  {
   "cell_type": "code",
   "execution_count": 23,
   "metadata": {},
   "outputs": [],
   "source": [
    "def gender_features(word):\n",
    "    features = {}\n",
    "    if any(vow in word for vow in 'aeiou'):\n",
    "        features['vowel'] = True\n",
    "    else:\n",
    "        features['vowel'] = False\n",
    "    features['last_letter'] = word[-1]\n",
    "    features['letter_two'] = word[-2]\n",
    "    features['word_len'] = len(word) \n",
    "    features['first_letter'] = word[0]\n",
    "    features['second_letter'] = word[1]\n",
    "    return features"
   ]
  },
  {
   "cell_type": "markdown",
   "metadata": {},
   "source": [
    "The accuracy increases slightly from 77% to 78%"
   ]
  },
  {
   "cell_type": "code",
   "execution_count": 25,
   "metadata": {},
   "outputs": [
    {
     "name": "stdout",
     "output_type": "stream",
     "text": [
      "0.782\n"
     ]
    }
   ],
   "source": [
    "train_set = [(gender_features(n), g) for (n,g) in train_names]\n",
    "devtest_set = [(gender_features(n), g) for (n,g) in devtest_names]\n",
    "test_set = [(gender_features(n), g) for (n,g) in test_names]\n",
    "classifier = nltk.NaiveBayesClassifier.train(train_set)\n",
    "print(nltk.classify.accuracy(classifier, devtest_set))"
   ]
  },
  {
   "cell_type": "markdown",
   "metadata": {},
   "source": [
    "When we do our error analysis the number of errors drops from 112 to 88 and the percentage drops from 22% to 17.8%. Since we do see an improvement we can use this for the test set. "
   ]
  },
  {
   "cell_type": "code",
   "execution_count": 27,
   "metadata": {},
   "outputs": [
    {
     "name": "stdout",
     "output_type": "stream",
     "text": [
      "Number of errors:  89\n",
      "Number of devtest names:  500\n",
      "Error rate:  0.178\n"
     ]
    }
   ],
   "source": [
    "errors = []\n",
    "for (name, tag) in devtest_names:\n",
    "    guess = classifier.classify(gender_features(name))\n",
    "    if guess != tag:\n",
    "        errors.append((tag, guess, name))\n",
    "print('Number of errors: ',len(errors))\n",
    "print('Number of devtest names: ',len(devtest_names))\n",
    "print('Error rate: ', len(errors)/len(devtest_names))"
   ]
  },
  {
   "cell_type": "markdown",
   "metadata": {},
   "source": [
    "## Final Performance Test\n",
    "\n",
    "Using the test_set we will check the accuracy and do an error analysis."
   ]
  },
  {
   "cell_type": "code",
   "execution_count": 28,
   "metadata": {},
   "outputs": [
    {
     "name": "stdout",
     "output_type": "stream",
     "text": [
      "0.778\n"
     ]
    }
   ],
   "source": [
    "print(nltk.classify.accuracy(classifier, test_set))"
   ]
  },
  {
   "cell_type": "code",
   "execution_count": 29,
   "metadata": {},
   "outputs": [
    {
     "name": "stdout",
     "output_type": "stream",
     "text": [
      "Number of errors:  111\n",
      "Number of devtest names:  500\n",
      "Error rate:  0.222\n"
     ]
    }
   ],
   "source": [
    "errors = []\n",
    "for (name, tag) in test_names:\n",
    "    guess = classifier.classify(gender_features(name))\n",
    "    if guess != tag:\n",
    "        errors.append((tag, guess, name))\n",
    "print('Number of errors: ',len(errors))\n",
    "print('Number of devtest names: ',len(test_names))\n",
    "print('Error rate: ', len(errors)/len(test_names))"
   ]
  },
  {
   "cell_type": "code",
   "execution_count": 30,
   "metadata": {},
   "outputs": [
    {
     "name": "stdout",
     "output_type": "stream",
     "text": [
      "correct=female   guess=male     name=Adrien                        \n",
      "correct=female   guess=male     name=Aleen                         \n",
      "correct=female   guess=male     name=Bel                           \n",
      "correct=female   guess=male     name=Brier                         \n",
      "correct=female   guess=male     name=Brook                         \n",
      "correct=female   guess=male     name=Brooks                        \n",
      "correct=female   guess=male     name=Carmel                        \n",
      "correct=female   guess=male     name=Carolan                       \n",
      "correct=female   guess=male     name=Charo                         \n",
      "correct=female   guess=male     name=Chris                         \n",
      "correct=female   guess=male     name=Christal                      \n",
      "correct=female   guess=male     name=Clio                          \n",
      "correct=female   guess=male     name=Coleen                        \n",
      "correct=female   guess=male     name=Devan                         \n",
      "correct=female   guess=male     name=Dionis                        \n",
      "correct=female   guess=male     name=Eden                          \n",
      "correct=female   guess=male     name=Ethelin                       \n",
      "correct=female   guess=male     name=Farrand                       \n",
      "correct=female   guess=male     name=Fran                          \n",
      "correct=female   guess=male     name=Gae                           \n",
      "correct=female   guess=male     name=Gert                          \n",
      "correct=female   guess=male     name=Gladis                        \n",
      "correct=female   guess=male     name=Glynnis                       \n",
      "correct=female   guess=male     name=Gretal                        \n",
      "correct=female   guess=male     name=Helen                         \n",
      "correct=female   guess=male     name=Hildagard                     \n",
      "correct=female   guess=male     name=Joellen                       \n",
      "correct=female   guess=male     name=Kit                           \n",
      "correct=female   guess=male     name=Kristien                      \n",
      "correct=female   guess=male     name=Laurel                        \n",
      "correct=female   guess=male     name=Leanor                        \n",
      "correct=female   guess=male     name=Lilias                        \n",
      "correct=female   guess=male     name=Maren                         \n",
      "correct=female   guess=male     name=Marigold                      \n",
      "correct=female   guess=male     name=Maud                          \n",
      "correct=female   guess=male     name=Mavis                         \n",
      "correct=female   guess=male     name=Miriam                        \n",
      "correct=female   guess=male     name=Moreen                        \n",
      "correct=female   guess=male     name=Olwen                         \n",
      "correct=female   guess=male     name=Orelee                        \n",
      "correct=female   guess=male     name=Queenie                       \n",
      "correct=female   guess=male     name=Raquel                        \n",
      "correct=female   guess=male     name=Ray                           \n",
      "correct=female   guess=male     name=Sibel                         \n",
      "correct=female   guess=male     name=Sibley                        \n",
      "correct=female   guess=male     name=Stacey                        \n",
      "correct=female   guess=male     name=Susan                         \n",
      "correct=female   guess=male     name=Suzan                         \n",
      "correct=female   guess=male     name=Tiffy                         \n",
      "correct=female   guess=male     name=Trace                         \n",
      "correct=female   guess=male     name=Wallie                        \n",
      "correct=male     guess=female   name=Adlai                         \n",
      "correct=male     guess=female   name=Arnie                         \n",
      "correct=male     guess=female   name=Bennie                        \n",
      "correct=male     guess=female   name=Carroll                       \n",
      "correct=male     guess=female   name=Case                          \n",
      "correct=male     guess=female   name=Che                           \n",
      "correct=male     guess=female   name=Christoph                     \n",
      "correct=male     guess=female   name=Clayborne                     \n",
      "correct=male     guess=female   name=Clemens                       \n",
      "correct=male     guess=female   name=Colin                         \n",
      "correct=male     guess=female   name=Corbin                        \n",
      "correct=male     guess=female   name=Darth                         \n",
      "correct=male     guess=female   name=Darwin                        \n",
      "correct=male     guess=female   name=Davy                          \n",
      "correct=male     guess=female   name=Deryl                         \n",
      "correct=male     guess=female   name=Elwin                         \n",
      "correct=male     guess=female   name=Ely                           \n",
      "correct=male     guess=female   name=Emil                          \n",
      "correct=male     guess=female   name=Evelyn                        \n",
      "correct=male     guess=female   name=Fitz                          \n",
      "correct=male     guess=female   name=Fonzie                        \n",
      "correct=male     guess=female   name=Freddie                       \n",
      "correct=male     guess=female   name=Garcia                        \n",
      "correct=male     guess=female   name=Gere                          \n",
      "correct=male     guess=female   name=Giovanne                      \n",
      "correct=male     guess=female   name=Jeffery                       \n",
      "correct=male     guess=female   name=Jeremy                        \n",
      "correct=male     guess=female   name=Jeromy                        \n",
      "correct=male     guess=female   name=Jody                          \n",
      "correct=male     guess=female   name=Johnnie                       \n",
      "correct=male     guess=female   name=Jordy                         \n",
      "correct=male     guess=female   name=Juanita                       \n",
      "correct=male     guess=female   name=Keith                         \n",
      "correct=male     guess=female   name=Kenneth                       \n",
      "correct=male     guess=female   name=Kerry                         \n",
      "correct=male     guess=female   name=Larry                         \n",
      "correct=male     guess=female   name=Laurent                       \n",
      "correct=male     guess=female   name=Lennie                        \n",
      "correct=male     guess=female   name=Llewellyn                     \n",
      "correct=male     guess=female   name=Locke                         \n",
      "correct=male     guess=female   name=Mace                          \n",
      "correct=male     guess=female   name=Maddie                        \n",
      "correct=male     guess=female   name=Martainn                      \n",
      "correct=male     guess=female   name=Maurits                       \n",
      "correct=male     guess=female   name=Merril                        \n",
      "correct=male     guess=female   name=Mitch                         \n",
      "correct=male     guess=female   name=Mose                          \n",
      "correct=male     guess=female   name=Odie                          \n",
      "correct=male     guess=female   name=Orville                       \n",
      "correct=male     guess=female   name=Patsy                         \n",
      "correct=male     guess=female   name=Pierre                        \n",
      "correct=male     guess=female   name=Salomone                      \n",
      "correct=male     guess=female   name=Selby                         \n",
      "correct=male     guess=female   name=Shayne                        \n",
      "correct=male     guess=female   name=Teddy                         \n",
      "correct=male     guess=female   name=Tobe                          \n",
      "correct=male     guess=female   name=Toddy                         \n",
      "correct=male     guess=female   name=Tremaine                      \n",
      "correct=male     guess=female   name=Wayne                         \n",
      "correct=male     guess=female   name=Wye                           \n"
     ]
    }
   ],
   "source": [
    "for (tag, guess, name) in sorted(errors): # doctest: +ELLIPSIS +NORMALIZE_WHITESPACE\n",
    "    print ('correct=%-8s guess=%-8s name=%-30s' % (tag, guess, name))"
   ]
  },
  {
   "cell_type": "markdown",
   "metadata": {},
   "source": [
    "## Conclusion\n",
    "\n",
    "While the testset had a higher accuracy score than the devtest, the number of error and the error percentage was also higher for the testset. This did come as a bit fof a surprise to me. Since the accuracy score is lower for the test set, I expected the error rate to be at or lower that the error rate of the devtest. It is possible that we need to find more better patterns in the error list so we know how to modify the feature function. \n",
    "\n",
    "I would start by modifying the feature method to look at the number of vowels present in the name instead of just a True/False if a vowel exists. "
   ]
  },
  {
   "cell_type": "code",
   "execution_count": null,
   "metadata": {},
   "outputs": [],
   "source": []
  },
  {
   "cell_type": "code",
   "execution_count": null,
   "metadata": {},
   "outputs": [],
   "source": []
  },
  {
   "cell_type": "code",
   "execution_count": null,
   "metadata": {},
   "outputs": [],
   "source": []
  }
 ],
 "metadata": {
  "kernelspec": {
   "display_name": "Python 3",
   "language": "python",
   "name": "python3"
  },
  "language_info": {
   "codemirror_mode": {
    "name": "ipython",
    "version": 3
   },
   "file_extension": ".py",
   "mimetype": "text/x-python",
   "name": "python",
   "nbconvert_exporter": "python",
   "pygments_lexer": "ipython3",
   "version": "3.7.6"
  }
 },
 "nbformat": 4,
 "nbformat_minor": 4
}
