{
 "cells": [
  {
   "cell_type": "markdown",
   "metadata": {},
   "source": [
    "# Project 3 - Gender Classifier\n",
    "### Authors: John Mazon, LeTicia Cancel, Bharani Nitalla\n",
    "\n",
    "**Assignment:** Using any of the three classifiers described in chapter 6 of Natural Language Processing with Python, and any features you can think of, build the best name gender classifier you can.\n",
    "\n",
    "Begin by splitting the Names Corpus into three subsets: 500 words for the test set, 500 words for the devtest set, and the remaining 6900 words for the training set. Then, starting with the example name gender classifier, make incremental improvements. Use the dev-test set to check your progress. Once you are satisfied with your classifier, check its final performance on the test set.\n",
    "\n",
    "How does the performance on the test set compare to the performance on the dev-test set? Is this what you'd expect?\n"
   ]
  },
  {
   "cell_type": "code",
   "execution_count": 14,
   "metadata": {},
   "outputs": [],
   "source": [
    "# Libraries\n",
    "import nltk\n",
    "from nltk.corpus import names\n",
    "import random\n",
    "from nltk.classify import apply_features"
   ]
  },
  {
   "cell_type": "markdown",
   "metadata": {},
   "source": [
    "## Load Data\n",
    "\n",
    "Using the code found in chapter 6 of Natural Language Processing with Python we are going to do Supervised Classification using the Names corpus. We labeled each name by gender when loading the names files into a list and then shuffuled the list to make the list order random. We then check the length of the list and we can see that we have a total of 7,944 names and each name is labeled 'male' or 'female' based on which text file it was imported from. "
   ]
  },
  {
   "cell_type": "code",
   "execution_count": 15,
   "metadata": {},
   "outputs": [],
   "source": [
    "# Split male and female names\n",
    "names = ([(name, 'male') for name in names.words('male.txt')] +\n",
    "        [(name, 'female') for name in names.words('female.txt')])"
   ]
  },
  {
   "cell_type": "code",
   "execution_count": 16,
   "metadata": {},
   "outputs": [],
   "source": [
    "# shuffle the names list in random order\n",
    "random.shuffle(names)"
   ]
  },
  {
   "cell_type": "code",
   "execution_count": 17,
   "metadata": {},
   "outputs": [
    {
     "data": {
      "text/plain": [
       "[('Hynda', 'female'),\n",
       " ('Shir', 'female'),\n",
       " ('Nicol', 'female'),\n",
       " ('Mufinella', 'female'),\n",
       " ('Ichabod', 'male'),\n",
       " ('Andrew', 'male'),\n",
       " ('Paton', 'male'),\n",
       " ('Harmonie', 'female'),\n",
       " ('Nisa', 'female'),\n",
       " ('Dominick', 'male')]"
      ]
     },
     "execution_count": 17,
     "metadata": {},
     "output_type": "execute_result"
    }
   ],
   "source": [
    "names[:10]"
   ]
  },
  {
   "cell_type": "code",
   "execution_count": 18,
   "metadata": {},
   "outputs": [
    {
     "data": {
      "text/plain": [
       "7944"
      ]
     },
     "execution_count": 18,
     "metadata": {},
     "output_type": "execute_result"
    }
   ],
   "source": [
    "len(names)"
   ]
  },
  {
   "cell_type": "markdown",
   "metadata": {},
   "source": [
    "## Classifier Function\n",
    "\n",
    "When creating our names classifier, we have to decide which name features are relevent in predicting if a name belongs to a male or female. We begin first by using exactly what is in the text book to see how this performs on our dataset before exploring features of our own. \n",
    "\n",
    "The gender_features function takes each name and takes three features we specified and loads them to a dictionary. The three features we will look at are last letter, length of name, and first name. We then test the funtion using the name John to make sure the features dictionary returns the correct information. "
   ]
  },
  {
   "cell_type": "code",
   "execution_count": 1,
   "metadata": {},
   "outputs": [],
   "source": [
    "def gender_features(word):\n",
    "    features = {}\n",
    "    features['last_letter'] = word[-1]\n",
    "    features['word_len'] = len(word) \n",
    "    features['first_letter'] = word[0]\n",
    "    return features"
   ]
  },
  {
   "cell_type": "code",
   "execution_count": 2,
   "metadata": {},
   "outputs": [
    {
     "data": {
      "text/plain": [
       "{'last_letter': 'n', 'word_len': 4, 'first_letter': 'J'}"
      ]
     },
     "execution_count": 2,
     "metadata": {},
     "output_type": "execute_result"
    }
   ],
   "source": [
    "gender_features('John')"
   ]
  },
  {
   "cell_type": "markdown",
   "metadata": {},
   "source": [
    "Now that we see the function works for our test name John, we run the function for every name in the names list and save this dictionary to the featuresets variable. So every name in the list will have dictionary values similar to the above test we did with the name John. The data is split into a training and test set using an equal number of names for each set. "
   ]
  },
  {
   "cell_type": "code",
   "execution_count": 164,
   "metadata": {},
   "outputs": [],
   "source": [
    "featuresets = [(gender_features(n), g) for n,g in names]\n",
    "train_set, test_set = featuresets[500:], featuresets[:500]\n",
    "classifier = nltk.NaiveBayesClassifier.train(train_set)"
   ]
  },
  {
   "cell_type": "code",
   "execution_count": 165,
   "metadata": {
    "scrolled": true
   },
   "outputs": [
    {
     "name": "stdout",
     "output_type": "stream",
     "text": [
      "0.772\n"
     ]
    }
   ],
   "source": [
    "print (nltk.classify.accuracy(classifier, test_set))"
   ]
  },
  {
   "cell_type": "code",
   "execution_count": 166,
   "metadata": {},
   "outputs": [
    {
     "name": "stdout",
     "output_type": "stream",
     "text": [
      "Most Informative Features\n",
      "             last_letter = 'a'            female : male   =     35.7 : 1.0\n",
      "             last_letter = 'k'              male : female =     31.3 : 1.0\n",
      "             last_letter = 'f'              male : female =     28.9 : 1.0\n",
      "             last_letter = 'p'              male : female =     21.0 : 1.0\n",
      "             last_letter = 'v'              male : female =     18.7 : 1.0\n"
     ]
    }
   ],
   "source": [
    "classifier.show_most_informative_features(5)"
   ]
  },
  {
   "cell_type": "code",
   "execution_count": 167,
   "metadata": {},
   "outputs": [],
   "source": [
    "train_set = apply_features(gender_features, names[500:])\n",
    "test_set = apply_features(gender_features, names[500:])"
   ]
  },
  {
   "cell_type": "code",
   "execution_count": 168,
   "metadata": {},
   "outputs": [],
   "source": [
    "train_names = names[6900:]\n",
    "devtest_names = names[500:1000]\n",
    "test_names = names[:500]"
   ]
  },
  {
   "cell_type": "code",
   "execution_count": 169,
   "metadata": {},
   "outputs": [
    {
     "name": "stdout",
     "output_type": "stream",
     "text": [
      "0.77\n"
     ]
    }
   ],
   "source": [
    "train_set = [(gender_features(n), g) for (n,g) in train_names]\n",
    "devtest_set = [(gender_features(n), g) for (n,g) in devtest_names]\n",
    "test_set = [(gender_features(n), g) for (n,g) in test_names]\n",
    "classifier = nltk.NaiveBayesClassifier.train(train_set)\n",
    "print(nltk.classify.accuracy(classifier, devtest_set))"
   ]
  },
  {
   "cell_type": "code",
   "execution_count": 173,
   "metadata": {},
   "outputs": [
    {
     "name": "stdout",
     "output_type": "stream",
     "text": [
      "115\n"
     ]
    }
   ],
   "source": [
    "errors = []\n",
    "for (name, tag) in devtest_names:\n",
    "    guess = classifier.classify(gender_features(name))\n",
    "    if guess != tag:\n",
    "        errors.append((tag, guess, name))\n",
    "print(len(errors))"
   ]
  },
  {
   "cell_type": "code",
   "execution_count": 171,
   "metadata": {},
   "outputs": [
    {
     "name": "stdout",
     "output_type": "stream",
     "text": [
      "correct=female   guess=male     name=Beilul                        \n",
      "correct=female   guess=male     name=Bren                          \n",
      "correct=female   guess=male     name=Carol                         \n",
      "correct=female   guess=male     name=Carol-Jean                    \n",
      "correct=female   guess=male     name=Carolin                       \n",
      "correct=female   guess=male     name=Cass                          \n",
      "correct=female   guess=male     name=Catlin                        \n",
      "correct=female   guess=male     name=Charil                        \n",
      "correct=female   guess=male     name=Chrystel                      \n",
      "correct=female   guess=male     name=Clem                          \n",
      "correct=female   guess=male     name=Corliss                       \n",
      "correct=female   guess=male     name=Cris                          \n",
      "correct=female   guess=male     name=Crystal                       \n",
      "correct=female   guess=male     name=Eadith                        \n",
      "correct=female   guess=male     name=Em                            \n",
      "correct=female   guess=male     name=Fay                           \n",
      "correct=female   guess=male     name=Gweneth                       \n",
      "correct=female   guess=male     name=Helge                         \n",
      "correct=female   guess=male     name=Hesther                       \n",
      "correct=female   guess=male     name=Jaclin                        \n",
      "correct=female   guess=male     name=Jacynth                       \n",
      "correct=female   guess=male     name=Janeen                        \n",
      "correct=female   guess=male     name=Jonis                         \n",
      "correct=female   guess=male     name=Joyan                         \n",
      "correct=female   guess=male     name=Karrah                        \n",
      "correct=female   guess=male     name=Karylin                       \n",
      "correct=female   guess=male     name=Katheleen                     \n",
      "correct=female   guess=male     name=Kay                           \n",
      "correct=female   guess=male     name=Keren                         \n",
      "correct=female   guess=male     name=Kial                          \n",
      "correct=female   guess=male     name=Kris                          \n",
      "correct=female   guess=male     name=Lisbeth                       \n",
      "correct=female   guess=male     name=Lou                           \n",
      "correct=female   guess=male     name=Lust                          \n",
      "correct=female   guess=male     name=Malcah                        \n",
      "correct=female   guess=male     name=Mariel                        \n",
      "correct=female   guess=male     name=Meagan                        \n",
      "correct=female   guess=male     name=Mikako                        \n",
      "correct=female   guess=male     name=Olwen                         \n",
      "correct=female   guess=male     name=Page                          \n",
      "correct=female   guess=male     name=Rachael                       \n",
      "correct=female   guess=male     name=Raychel                       \n",
      "correct=female   guess=male     name=Rosalynd                      \n",
      "correct=female   guess=male     name=Rozamond                      \n",
      "correct=female   guess=male     name=Shel                          \n",
      "correct=female   guess=male     name=Sinead                        \n",
      "correct=female   guess=male     name=Ted                           \n",
      "correct=female   guess=male     name=Veronique                     \n",
      "correct=male     guess=female   name=Ali                           \n",
      "correct=male     guess=female   name=Allie                         \n",
      "correct=male     guess=female   name=Archie                        \n",
      "correct=male     guess=female   name=Arvie                         \n",
      "correct=male     guess=female   name=Ave                           \n",
      "correct=male     guess=female   name=Averell                       \n",
      "correct=male     guess=female   name=Averil                        \n",
      "correct=male     guess=female   name=Bealle                        \n",
      "correct=male     guess=female   name=Broddy                        \n",
      "correct=male     guess=female   name=Brooke                        \n",
      "correct=male     guess=female   name=Bruce                         \n",
      "correct=male     guess=female   name=Bucky                         \n",
      "correct=male     guess=female   name=Charlie                       \n",
      "correct=male     guess=female   name=Cole                          \n",
      "correct=male     guess=female   name=Cortese                       \n",
      "correct=male     guess=female   name=Daryle                        \n",
      "correct=male     guess=female   name=Dell                          \n",
      "correct=male     guess=female   name=Dewey                         \n",
      "correct=male     guess=female   name=Edie                          \n",
      "correct=male     guess=female   name=Freddie                       \n",
      "correct=male     guess=female   name=Graeme                        \n",
      "correct=male     guess=female   name=Guillaume                     \n",
      "correct=male     guess=female   name=Harvey                        \n",
      "correct=male     guess=female   name=Hercule                       \n",
      "correct=male     guess=female   name=Jeffrey                       \n",
      "correct=male     guess=female   name=Jere                          \n",
      "correct=male     guess=female   name=Johny                         \n",
      "correct=male     guess=female   name=Jude                          \n",
      "correct=male     guess=female   name=Kelley                        \n",
      "correct=male     guess=female   name=Lonnie                        \n",
      "correct=male     guess=female   name=Maurice                       \n",
      "correct=male     guess=female   name=Maurise                       \n",
      "correct=male     guess=female   name=Maxie                         \n",
      "correct=male     guess=female   name=Melvyn                        \n",
      "correct=male     guess=female   name=Mickie                        \n",
      "correct=male     guess=female   name=Mikey                         \n",
      "correct=male     guess=female   name=Mischa                        \n",
      "correct=male     guess=female   name=Mitchell                      \n",
      "correct=male     guess=female   name=Moore                         \n",
      "correct=male     guess=female   name=Morrie                        \n",
      "correct=male     guess=female   name=Morse                         \n",
      "correct=male     guess=female   name=Nichole                       \n",
      "correct=male     guess=female   name=Parnell                       \n",
      "correct=male     guess=female   name=Pascale                       \n",
      "correct=male     guess=female   name=Patsy                         \n",
      "correct=male     guess=female   name=Pennie                        \n",
      "correct=male     guess=female   name=Phillipe                      \n",
      "correct=male     guess=female   name=Rabi                          \n",
      "correct=male     guess=female   name=Randell                       \n",
      "correct=male     guess=female   name=Rocky                         \n",
      "correct=male     guess=female   name=Sasha                         \n",
      "correct=male     guess=female   name=Shea                          \n",
      "correct=male     guess=female   name=Si                            \n",
      "correct=male     guess=female   name=Sidnee                        \n",
      "correct=male     guess=female   name=Solly                         \n",
      "correct=male     guess=female   name=Terri                         \n",
      "correct=male     guess=female   name=Tobe                          \n",
      "correct=male     guess=female   name=Toby                          \n",
      "correct=male     guess=female   name=Uli                           \n",
      "correct=male     guess=female   name=Valentine                     \n",
      "correct=male     guess=female   name=Walsh                         \n",
      "correct=male     guess=female   name=Waring                        \n",
      "correct=male     guess=female   name=Wayne                         \n",
      "correct=male     guess=female   name=Wiley                         \n",
      "correct=male     guess=female   name=Willy                         \n",
      "correct=male     guess=female   name=Woochang                      \n",
      "correct=male     guess=female   name=Yancy                         \n"
     ]
    }
   ],
   "source": [
    "for (tag, guess, name) in sorted(errors): # doctest: +ELLIPSIS +NORMALIZE_WHITESPACE\n",
    "    print ('correct=%-8s guess=%-8s name=%-30s' % (tag, guess, name))\n",
    "    "
   ]
  },
  {
   "cell_type": "code",
   "execution_count": 174,
   "metadata": {},
   "outputs": [
    {
     "name": "stdout",
     "output_type": "stream",
     "text": [
      "122\n"
     ]
    }
   ],
   "source": [
    "errors = []\n",
    "for (name, tag) in test_names:\n",
    "    guess = classifier.classify(gender_features(name))\n",
    "    if guess != tag:\n",
    "        errors.append((tag, guess, name))\n",
    "print(len(errors))"
   ]
  },
  {
   "cell_type": "code",
   "execution_count": null,
   "metadata": {},
   "outputs": [],
   "source": [
    "def gender_features(word):\n",
    "    features = {}\n",
    "    if any(vow in word for vow in 'aeiou'):\n",
    "        features['vowel'] = True\n",
    "    else:\n",
    "        features['vowel'] = False\n",
    "    features['last_letter'] = word[-1]\n",
    "    features['letter_two'] = word[-2]\n",
    "    #features['word_len'] = len(word) \n",
    "    #features['first_letter'] = word[0]\n",
    "    features['second_letter'] = word[1]\n",
    "    return features"
   ]
  },
  {
   "cell_type": "code",
   "execution_count": null,
   "metadata": {},
   "outputs": [],
   "source": []
  },
  {
   "cell_type": "code",
   "execution_count": null,
   "metadata": {},
   "outputs": [],
   "source": []
  },
  {
   "cell_type": "code",
   "execution_count": null,
   "metadata": {},
   "outputs": [],
   "source": []
  },
  {
   "cell_type": "code",
   "execution_count": null,
   "metadata": {},
   "outputs": [],
   "source": []
  }
 ],
 "metadata": {
  "kernelspec": {
   "display_name": "Python 3",
   "language": "python",
   "name": "python3"
  },
  "language_info": {
   "codemirror_mode": {
    "name": "ipython",
    "version": 3
   },
   "file_extension": ".py",
   "mimetype": "text/x-python",
   "name": "python",
   "nbconvert_exporter": "python",
   "pygments_lexer": "ipython3",
   "version": "3.7.6"
  }
 },
 "nbformat": 4,
 "nbformat_minor": 4
}
