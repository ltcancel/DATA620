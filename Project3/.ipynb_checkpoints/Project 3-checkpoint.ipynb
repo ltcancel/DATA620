{
 "cells": [
  {
   "cell_type": "markdown",
   "metadata": {},
   "source": [
    "# Project 3 - Gender Classifier\n",
    "### Authors: John Mazon, LeTicia Cancel, Bharani Nitalla\n",
    "\n",
    "**Video:**\n",
    "\n",
    "**Assignment:** Using any of the three classifiers described in chapter 6 of Natural Language Processing with Python, and any features you can think of, build the best name gender classifier you can.\n",
    "\n",
    "Begin by splitting the Names Corpus into three subsets: 500 words for the test set, 500 words for the devtest set, and the remaining 6900 words for the training set. Then, starting with the example name gender classifier, make incremental improvements. Use the dev-test set to check your progress. Once you are satisfied with your classifier, check its final performance on the test set.\n",
    "\n",
    "How does the performance on the test set compare to the performance on the dev-test set? Is this what you'd expect?\n"
   ]
  },
  {
   "cell_type": "code",
   "execution_count": 31,
   "metadata": {},
   "outputs": [],
   "source": [
    "# Libraries\n",
    "import nltk\n",
    "from nltk.corpus import names\n",
    "import random\n",
    "from nltk.classify import apply_features"
   ]
  },
  {
   "cell_type": "markdown",
   "metadata": {},
   "source": [
    "## Load Data\n",
    "\n",
    "Using the code found in chapter 6 of Natural Language Processing with Python we are going to do Supervised Classification using the Names corpus. We labeled each name by gender when loading the names files into a list and then shuffuled the list to make the list order random. We then check the length of the list and we can see that we have a total of 7,944 names and each name is labeled 'male' or 'female' based on which text file it was imported from. "
   ]
  },
  {
   "cell_type": "code",
   "execution_count": 32,
   "metadata": {},
   "outputs": [],
   "source": [
    "# Split male and female names\n",
    "names = ([(name, 'male') for name in names.words('male.txt')] +\n",
    "        [(name, 'female') for name in names.words('female.txt')])"
   ]
  },
  {
   "cell_type": "code",
   "execution_count": 33,
   "metadata": {},
   "outputs": [],
   "source": [
    "# shuffle the names list in random order\n",
    "random.shuffle(names)"
   ]
  },
  {
   "cell_type": "code",
   "execution_count": 34,
   "metadata": {},
   "outputs": [
    {
     "data": {
      "text/plain": [
       "[('Angelico', 'male'),\n",
       " ('Joice', 'female'),\n",
       " ('Karil', 'female'),\n",
       " ('Dodie', 'female'),\n",
       " ('Goober', 'male'),\n",
       " ('Cara', 'female'),\n",
       " ('Willa', 'female'),\n",
       " ('Vanessa', 'female'),\n",
       " ('Luke', 'male'),\n",
       " ('Marthena', 'female')]"
      ]
     },
     "execution_count": 34,
     "metadata": {},
     "output_type": "execute_result"
    }
   ],
   "source": [
    "names[:10]"
   ]
  },
  {
   "cell_type": "code",
   "execution_count": 35,
   "metadata": {},
   "outputs": [
    {
     "data": {
      "text/plain": [
       "7944"
      ]
     },
     "execution_count": 35,
     "metadata": {},
     "output_type": "execute_result"
    }
   ],
   "source": [
    "len(names)"
   ]
  },
  {
   "cell_type": "markdown",
   "metadata": {},
   "source": [
    "## Classify Names Dataset\n",
    "\n",
    "When creating our names classifier, we have to decide which name features are relevent in predicting if a name belongs to a male or female. We begin first by using exactly what is in the text book to see how this performs on our dataset before exploring features of our own. \n",
    "\n",
    "The gender_features function takes each name and takes three features we specified and loads them to a dictionary. The three features we will look at are last letter, length of name, and first name. We then test the funtion using the name John to make sure the features dictionary returns the correct information. "
   ]
  },
  {
   "cell_type": "code",
   "execution_count": 36,
   "metadata": {},
   "outputs": [],
   "source": [
    "def gender_features(word):\n",
    "    features = {}\n",
    "    features['last_letter'] = word[-1]\n",
    "    features['word_len'] = len(word) \n",
    "    features['first_letter'] = word[0]\n",
    "    return features"
   ]
  },
  {
   "cell_type": "code",
   "execution_count": 37,
   "metadata": {},
   "outputs": [
    {
     "data": {
      "text/plain": [
       "{'last_letter': 'n', 'word_len': 4, 'first_letter': 'J'}"
      ]
     },
     "execution_count": 37,
     "metadata": {},
     "output_type": "execute_result"
    }
   ],
   "source": [
    "gender_features('John')"
   ]
  },
  {
   "cell_type": "markdown",
   "metadata": {},
   "source": [
    "Now that we see the function works for our test name John, we run the function for every name in the names list and save this dictionary to the featuresets variable. So every name in the list will have dictionary values similar to the above test we did with the name John. The data is split into a training and test set using an equal number of names for each set. We then use the training set to train a Naive Bayes classifier. When we print the accuracy of this classifier, we can see that it has a 77% accuracy. We will continue with this training set and then in part 2 we will add more features to the classifier so we can raise the accuracy score.  "
   ]
  },
  {
   "cell_type": "code",
   "execution_count": 38,
   "metadata": {},
   "outputs": [
    {
     "name": "stdout",
     "output_type": "stream",
     "text": [
      "0.772\n"
     ]
    }
   ],
   "source": [
    "featuresets = [(gender_features(n), g) for n,g in names]\n",
    "train_set, test_set = featuresets[500:], featuresets[:500]\n",
    "classifier = nltk.NaiveBayesClassifier.train(train_set)\n",
    "print (nltk.classify.accuracy(classifier, test_set))"
   ]
  },
  {
   "cell_type": "markdown",
   "metadata": {},
   "source": [
    "Using the show_most_imformative_features function we can see that the last letter is the most effective in distinguishing the gender. We can see the likelihood ratios for 5 letters. Names that end in the letter A are 38.6 times more likely to be a female name than male and names ending in the letter V are also more likely to be female. "
   ]
  },
  {
   "cell_type": "code",
   "execution_count": 39,
   "metadata": {},
   "outputs": [
    {
     "name": "stdout",
     "output_type": "stream",
     "text": [
      "Most Informative Features\n",
      "             last_letter = 'a'            female : male   =     38.6 : 1.0\n",
      "             last_letter = 'k'              male : female =     30.6 : 1.0\n",
      "             last_letter = 'f'              male : female =     16.5 : 1.0\n",
      "             last_letter = 'p'              male : female =     11.8 : 1.0\n",
      "             last_letter = 'v'              male : female =     10.5 : 1.0\n"
     ]
    }
   ],
   "source": [
    "classifier.show_most_informative_features(5)"
   ]
  },
  {
   "cell_type": "markdown",
   "metadata": {},
   "source": [
    "We modify the training and test sets using the apply_features function. According to the textbook this is the best way to store the results of the gender_features function when you have a large corpora. We will will apply the features in a different way later, but this was good practice. "
   ]
  },
  {
   "cell_type": "code",
   "execution_count": 40,
   "metadata": {},
   "outputs": [],
   "source": [
    "train_set = apply_features(gender_features, names[500:])\n",
    "test_set = apply_features(gender_features, names[500:])"
   ]
  },
  {
   "cell_type": "markdown",
   "metadata": {},
   "source": [
    "Now we split the names list according to the project guidlines, 500 test names, 500 devtest_names, and the remainder as training names. "
   ]
  },
  {
   "cell_type": "code",
   "execution_count": 41,
   "metadata": {},
   "outputs": [],
   "source": [
    "train_names = names[6900:]\n",
    "devtest_names = names[500:1000]\n",
    "test_names = names[:500]"
   ]
  },
  {
   "cell_type": "markdown",
   "metadata": {},
   "source": [
    "We run the gender_features for each of the names sets, run the Naives Bayes classifier and then check the accuracy. The accuracy for the devtest_set is 77% which is slightly lower than the test_set classifier we inspected earlier. "
   ]
  },
  {
   "cell_type": "code",
   "execution_count": 42,
   "metadata": {},
   "outputs": [
    {
     "name": "stdout",
     "output_type": "stream",
     "text": [
      "0.752\n"
     ]
    }
   ],
   "source": [
    "train_set = [(gender_features(n), g) for (n,g) in train_names]\n",
    "devtest_set = [(gender_features(n), g) for (n,g) in devtest_names]\n",
    "test_set = [(gender_features(n), g) for (n,g) in test_names]\n",
    "classifier = nltk.NaiveBayesClassifier.train(train_set)\n",
    "print(nltk.classify.accuracy(classifier, devtest_set))"
   ]
  },
  {
   "cell_type": "markdown",
   "metadata": {},
   "source": [
    "## Error Analysis\n",
    "\n",
    "Using the devtest_names set we do an error analysis to see how many many times the classifier incorrectly predicts name genders. All of the classifier errors are stored in the error variable and we can see that 115 incorrect predictions were made which is 22% of the devtest set. "
   ]
  },
  {
   "cell_type": "code",
   "execution_count": 43,
   "metadata": {
    "scrolled": true
   },
   "outputs": [
    {
     "name": "stdout",
     "output_type": "stream",
     "text": [
      "Number of errors:  124\n",
      "Number of devtest names:  500\n",
      "Error rate:  0.248\n"
     ]
    }
   ],
   "source": [
    "errors = []\n",
    "for (name, tag) in devtest_names:\n",
    "    guess = classifier.classify(gender_features(name))\n",
    "    if guess != tag:\n",
    "        errors.append((tag, guess, name))\n",
    "print('Number of errors: ',len(errors))\n",
    "print('Number of devtest names: ',len(devtest_names))\n",
    "print('Error rate: ', len(errors)/len(devtest_names))"
   ]
  },
  {
   "cell_type": "markdown",
   "metadata": {},
   "source": [
    "We examine each name in the error set so we can try to find patterns that can be used in the new gender_features function."
   ]
  },
  {
   "cell_type": "code",
   "execution_count": 44,
   "metadata": {},
   "outputs": [
    {
     "name": "stdout",
     "output_type": "stream",
     "text": [
      "correct=female   guess=male     name=Abagael                       \n",
      "correct=female   guess=male     name=Alison                        \n",
      "correct=female   guess=male     name=Bab                           \n",
      "correct=female   guess=male     name=Barb                          \n",
      "correct=female   guess=male     name=Brook                         \n",
      "correct=female   guess=male     name=Carilyn                       \n",
      "correct=female   guess=male     name=Carlynn                       \n",
      "correct=female   guess=male     name=Carolan                       \n",
      "correct=female   guess=male     name=Debor                         \n",
      "correct=female   guess=male     name=Dot                           \n",
      "correct=female   guess=male     name=Easter                        \n",
      "correct=female   guess=male     name=Elsbeth                       \n",
      "correct=female   guess=male     name=Evaleen                       \n",
      "correct=female   guess=male     name=Fanchon                       \n",
      "correct=female   guess=male     name=Fayth                         \n",
      "correct=female   guess=male     name=Flor                          \n",
      "correct=female   guess=male     name=Gail                          \n",
      "correct=female   guess=male     name=Gillan                        \n",
      "correct=female   guess=male     name=Gilligan                      \n",
      "correct=female   guess=male     name=Gretal                        \n",
      "correct=female   guess=male     name=Guendolen                     \n",
      "correct=female   guess=male     name=Gwenn                         \n",
      "correct=female   guess=male     name=Harriot                       \n",
      "correct=female   guess=male     name=Ingeberg                      \n",
      "correct=female   guess=male     name=Janifer                       \n",
      "correct=female   guess=male     name=Kit                           \n",
      "correct=female   guess=male     name=Lynett                        \n",
      "correct=female   guess=male     name=Margalo                       \n",
      "correct=female   guess=male     name=Meg                           \n",
      "correct=female   guess=male     name=Mellisent                     \n",
      "correct=female   guess=male     name=Mildrid                       \n",
      "correct=female   guess=male     name=Peg                           \n",
      "correct=female   guess=male     name=Phillis                       \n",
      "correct=female   guess=male     name=Pru                           \n",
      "correct=female   guess=male     name=Rosalyn                       \n",
      "correct=female   guess=male     name=Shaylah                       \n",
      "correct=female   guess=male     name=Shirah                        \n",
      "correct=female   guess=male     name=Sileas                        \n",
      "correct=female   guess=male     name=Siobhan                       \n",
      "correct=female   guess=male     name=Theo                          \n",
      "correct=female   guess=male     name=Viv                           \n",
      "correct=female   guess=male     name=Whitney                       \n",
      "correct=female   guess=male     name=Willy                         \n",
      "correct=female   guess=male     name=Willyt                        \n",
      "correct=female   guess=male     name=Wynn                          \n",
      "correct=male     guess=female   name=Abby                          \n",
      "correct=male     guess=female   name=Allen                         \n",
      "correct=male     guess=female   name=Aloysius                      \n",
      "correct=male     guess=female   name=Antone                        \n",
      "correct=male     guess=female   name=Ariel                         \n",
      "correct=male     guess=female   name=Aziz                          \n",
      "correct=male     guess=female   name=Barde                         \n",
      "correct=male     guess=female   name=Barney                        \n",
      "correct=male     guess=female   name=Baron                         \n",
      "correct=male     guess=female   name=Bentley                       \n",
      "correct=male     guess=female   name=Brinkley                      \n",
      "correct=male     guess=female   name=Brodie                        \n",
      "correct=male     guess=female   name=Calvin                        \n",
      "correct=male     guess=female   name=Chauncey                      \n",
      "correct=male     guess=female   name=Christoph                     \n",
      "correct=male     guess=female   name=Claudius                      \n",
      "correct=male     guess=female   name=Clive                         \n",
      "correct=male     guess=female   name=Cole                          \n",
      "correct=male     guess=female   name=Corey                         \n",
      "correct=male     guess=female   name=Corrie                        \n",
      "correct=male     guess=female   name=Darby                         \n",
      "correct=male     guess=female   name=Darwin                        \n",
      "correct=male     guess=female   name=Demetri                       \n",
      "correct=male     guess=female   name=Demosthenis                   \n",
      "correct=male     guess=female   name=Donny                         \n",
      "correct=male     guess=female   name=Dudley                        \n",
      "correct=male     guess=female   name=Elmore                        \n",
      "correct=male     guess=female   name=Esme                          \n",
      "correct=male     guess=female   name=Garvy                         \n",
      "correct=male     guess=female   name=Gene                          \n",
      "correct=male     guess=female   name=Giffy                         \n",
      "correct=male     guess=female   name=Giorgi                        \n",
      "correct=male     guess=female   name=Heinz                         \n",
      "correct=male     guess=female   name=Huey                          \n",
      "correct=male     guess=female   name=Huntley                       \n",
      "correct=male     guess=female   name=Ismail                        \n",
      "correct=male     guess=female   name=Jason                         \n",
      "correct=male     guess=female   name=Jere                          \n",
      "correct=male     guess=female   name=Jermain                       \n",
      "correct=male     guess=female   name=Jerome                        \n",
      "correct=male     guess=female   name=Joel                          \n",
      "correct=male     guess=female   name=Jorge                         \n",
      "correct=male     guess=female   name=Josiah                        \n",
      "correct=male     guess=female   name=Judy                          \n",
      "correct=male     guess=female   name=Kalman                        \n",
      "correct=male     guess=female   name=Leighton                      \n",
      "correct=male     guess=female   name=Lonny                         \n",
      "correct=male     guess=female   name=Lorne                         \n",
      "correct=male     guess=female   name=Marlin                        \n",
      "correct=male     guess=female   name=Marmaduke                     \n",
      "correct=male     guess=female   name=Merwin                        \n",
      "correct=male     guess=female   name=Michel                        \n",
      "correct=male     guess=female   name=Moises                        \n",
      "correct=male     guess=female   name=Morrie                        \n",
      "correct=male     guess=female   name=Murdoch                       \n",
      "correct=male     guess=female   name=Myke                          \n",
      "correct=male     guess=female   name=Nevil                         \n",
      "correct=male     guess=female   name=Nichols                       \n",
      "correct=male     guess=female   name=Nikki                         \n",
      "correct=male     guess=female   name=Noah                          \n",
      "correct=male     guess=female   name=Osborne                       \n",
      "correct=male     guess=female   name=Ossie                         \n",
      "correct=male     guess=female   name=Pace                          \n",
      "correct=male     guess=female   name=Pennie                        \n",
      "correct=male     guess=female   name=Percival                      \n",
      "correct=male     guess=female   name=Rafe                          \n",
      "correct=male     guess=female   name=Reggie                        \n",
      "correct=male     guess=female   name=Ricki                         \n",
      "correct=male     guess=female   name=Ruddy                         \n",
      "correct=male     guess=female   name=Selby                         \n",
      "correct=male     guess=female   name=Skippie                       \n",
      "correct=male     guess=female   name=Smith                         \n",
      "correct=male     guess=female   name=Sunny                         \n",
      "correct=male     guess=female   name=Timmy                         \n",
      "correct=male     guess=female   name=Tommie                        \n",
      "correct=male     guess=female   name=Torry                         \n",
      "correct=male     guess=female   name=Uli                           \n",
      "correct=male     guess=female   name=Vance                         \n",
      "correct=male     guess=female   name=Zedekiah                      \n"
     ]
    }
   ],
   "source": [
    "for (tag, guess, name) in sorted(errors): # doctest: +ELLIPSIS +NORMALIZE_WHITESPACE\n",
    "    print ('correct=%-8s guess=%-8s name=%-30s' % (tag, guess, name))"
   ]
  },
  {
   "cell_type": "markdown",
   "metadata": {},
   "source": [
    "We modify the gender_features function to also look at vowels in each name, the first two letters, the last two letter, and the length of the name. Now we will perform all of the steps to see if we get better results. "
   ]
  },
  {
   "cell_type": "code",
   "execution_count": 45,
   "metadata": {},
   "outputs": [],
   "source": [
    "def gender_features(word):\n",
    "    features = {}\n",
    "    if any(vow in word for vow in 'aeiou'):\n",
    "        features['vowel'] = True\n",
    "    else:\n",
    "        features['vowel'] = False\n",
    "    features['last_letter'] = word[-1]\n",
    "    features['letter_two'] = word[-2]\n",
    "    features['word_len'] = len(word) \n",
    "    features['first_letter'] = word[0]\n",
    "    features['second_letter'] = word[1]\n",
    "    return features"
   ]
  },
  {
   "cell_type": "markdown",
   "metadata": {},
   "source": [
    "The accuracy increases slightly from 77% to 78%"
   ]
  },
  {
   "cell_type": "code",
   "execution_count": 46,
   "metadata": {},
   "outputs": [
    {
     "name": "stdout",
     "output_type": "stream",
     "text": [
      "0.75\n"
     ]
    }
   ],
   "source": [
    "train_set = [(gender_features(n), g) for (n,g) in train_names]\n",
    "devtest_set = [(gender_features(n), g) for (n,g) in devtest_names]\n",
    "test_set = [(gender_features(n), g) for (n,g) in test_names]\n",
    "classifier = nltk.NaiveBayesClassifier.train(train_set)\n",
    "print(nltk.classify.accuracy(classifier, devtest_set))"
   ]
  },
  {
   "cell_type": "markdown",
   "metadata": {},
   "source": [
    "When we do our error analysis the number of errors drops from 112 to 88 and the percentage drops from 22% to 17.8%. Since we do see an improvement we can use this for the test set. "
   ]
  },
  {
   "cell_type": "code",
   "execution_count": 47,
   "metadata": {},
   "outputs": [
    {
     "name": "stdout",
     "output_type": "stream",
     "text": [
      "Number of errors:  125\n",
      "Number of devtest names:  500\n",
      "Error rate:  0.25\n"
     ]
    }
   ],
   "source": [
    "errors = []\n",
    "for (name, tag) in devtest_names:\n",
    "    guess = classifier.classify(gender_features(name))\n",
    "    if guess != tag:\n",
    "        errors.append((tag, guess, name))\n",
    "print('Number of errors: ',len(errors))\n",
    "print('Number of devtest names: ',len(devtest_names))\n",
    "print('Error rate: ', len(errors)/len(devtest_names))"
   ]
  },
  {
   "cell_type": "markdown",
   "metadata": {},
   "source": [
    "## Final Performance Test\n",
    "\n",
    "Using the test_set we will check the accuracy and do an error analysis."
   ]
  },
  {
   "cell_type": "code",
   "execution_count": 48,
   "metadata": {},
   "outputs": [
    {
     "name": "stdout",
     "output_type": "stream",
     "text": [
      "0.776\n"
     ]
    }
   ],
   "source": [
    "print(nltk.classify.accuracy(classifier, test_set))"
   ]
  },
  {
   "cell_type": "code",
   "execution_count": 49,
   "metadata": {},
   "outputs": [
    {
     "name": "stdout",
     "output_type": "stream",
     "text": [
      "Number of errors:  112\n",
      "Number of devtest names:  500\n",
      "Error rate:  0.224\n"
     ]
    }
   ],
   "source": [
    "errors = []\n",
    "for (name, tag) in test_names:\n",
    "    guess = classifier.classify(gender_features(name))\n",
    "    if guess != tag:\n",
    "        errors.append((tag, guess, name))\n",
    "print('Number of errors: ',len(errors))\n",
    "print('Number of devtest names: ',len(test_names))\n",
    "print('Error rate: ', len(errors)/len(test_names))"
   ]
  },
  {
   "cell_type": "code",
   "execution_count": 50,
   "metadata": {},
   "outputs": [
    {
     "name": "stdout",
     "output_type": "stream",
     "text": [
      "correct=female   guess=male     name=Aleen                         \n",
      "correct=female   guess=male     name=Allyson                       \n",
      "correct=female   guess=male     name=Annabel                       \n",
      "correct=female   guess=male     name=Arden                         \n",
      "correct=female   guess=male     name=Ariel                         \n",
      "correct=female   guess=male     name=Brittan                       \n",
      "correct=female   guess=male     name=Carmon                        \n",
      "correct=female   guess=male     name=Cat                           \n",
      "correct=female   guess=male     name=Chandal                       \n",
      "correct=female   guess=male     name=Chloris                       \n",
      "correct=female   guess=male     name=Chrystel                      \n",
      "correct=female   guess=male     name=Crystal                       \n",
      "correct=female   guess=male     name=Demeter                       \n",
      "correct=female   guess=male     name=Dix                           \n",
      "correct=female   guess=male     name=Dominique                     \n",
      "correct=female   guess=male     name=Donnajean                     \n",
      "correct=female   guess=male     name=Eilis                         \n",
      "correct=female   guess=male     name=Erin                          \n",
      "correct=female   guess=male     name=Frances                       \n",
      "correct=female   guess=male     name=Gen                           \n",
      "correct=female   guess=male     name=Grayce                        \n",
      "correct=female   guess=male     name=Hedvig                        \n",
      "correct=female   guess=male     name=Ingaborg                      \n",
      "correct=female   guess=male     name=Ingrid                        \n",
      "correct=female   guess=male     name=Joan                          \n",
      "correct=female   guess=male     name=Juliet                        \n",
      "correct=female   guess=male     name=Lilian                        \n",
      "correct=female   guess=male     name=Lyndsey                       \n",
      "correct=female   guess=male     name=Mairead                       \n",
      "correct=female   guess=male     name=Muriel                        \n",
      "correct=female   guess=male     name=Piper                         \n",
      "correct=female   guess=male     name=Quinn                         \n",
      "correct=female   guess=male     name=Regan                         \n",
      "correct=female   guess=male     name=Rivalee                       \n",
      "correct=female   guess=male     name=Rosabel                       \n",
      "correct=female   guess=male     name=Rosario                       \n",
      "correct=female   guess=male     name=Sharl                         \n",
      "correct=female   guess=male     name=Sharron                       \n",
      "correct=female   guess=male     name=Sheelagh                      \n",
      "correct=female   guess=male     name=Shel                          \n",
      "correct=female   guess=male     name=Sib                           \n",
      "correct=female   guess=male     name=Sybil                         \n",
      "correct=female   guess=male     name=Tatum                         \n",
      "correct=female   guess=male     name=Ulrike                        \n",
      "correct=female   guess=male     name=Venus                         \n",
      "correct=female   guess=male     name=Veronique                     \n",
      "correct=female   guess=male     name=Wally                         \n",
      "correct=male     guess=female   name=Alaa                          \n",
      "correct=male     guess=female   name=Alfonse                       \n",
      "correct=male     guess=female   name=Andrea                        \n",
      "correct=male     guess=female   name=Anthony                       \n",
      "correct=male     guess=female   name=Antony                        \n",
      "correct=male     guess=female   name=Arne                          \n",
      "correct=male     guess=female   name=Artie                         \n",
      "correct=male     guess=female   name=Barry                         \n",
      "correct=male     guess=female   name=Berkeley                      \n",
      "correct=male     guess=female   name=Bertie                        \n",
      "correct=male     guess=female   name=Blare                         \n",
      "correct=male     guess=female   name=Chaddy                        \n",
      "correct=male     guess=female   name=Christiano                    \n",
      "correct=male     guess=female   name=Cobby                         \n",
      "correct=male     guess=female   name=Constantine                   \n",
      "correct=male     guess=female   name=Dale                          \n",
      "correct=male     guess=female   name=Devin                         \n",
      "correct=male     guess=female   name=Duffie                        \n",
      "correct=male     guess=female   name=Duffy                         \n",
      "correct=male     guess=female   name=Eddy                          \n",
      "correct=male     guess=female   name=Emmery                        \n",
      "correct=male     guess=female   name=Erny                          \n",
      "correct=male     guess=female   name=Ezra                          \n",
      "correct=male     guess=female   name=Filipe                        \n",
      "correct=male     guess=female   name=Georgia                       \n",
      "correct=male     guess=female   name=Germaine                      \n",
      "correct=male     guess=female   name=Giovanni                      \n",
      "correct=male     guess=female   name=Giuseppe                      \n",
      "correct=male     guess=female   name=Graeme                        \n",
      "correct=male     guess=female   name=Hermy                         \n",
      "correct=male     guess=female   name=Howie                         \n",
      "correct=male     guess=female   name=Immanuel                      \n",
      "correct=male     guess=female   name=Jean-Pierre                   \n",
      "correct=male     guess=female   name=Jehu                          \n",
      "correct=male     guess=female   name=Jereme                        \n",
      "correct=male     guess=female   name=Karel                         \n",
      "correct=male     guess=female   name=Lamont                        \n",
      "correct=male     guess=female   name=Leslie                        \n",
      "correct=male     guess=female   name=Louie                         \n",
      "correct=male     guess=female   name=Luke                          \n",
      "correct=male     guess=female   name=Marshall                      \n",
      "correct=male     guess=female   name=Marty                         \n",
      "correct=male     guess=female   name=Mattie                        \n",
      "correct=male     guess=female   name=Merell                        \n",
      "correct=male     guess=female   name=Morris                        \n",
      "correct=male     guess=female   name=Nathanael                     \n",
      "correct=male     guess=female   name=Nathaniel                     \n",
      "correct=male     guess=female   name=Noble                         \n",
      "correct=male     guess=female   name=Norris                        \n",
      "correct=male     guess=female   name=Pepe                          \n",
      "correct=male     guess=female   name=Rabi                          \n",
      "correct=male     guess=female   name=Sarge                         \n",
      "correct=male     guess=female   name=Sayre                         \n",
      "correct=male     guess=female   name=Scotty                        \n",
      "correct=male     guess=female   name=Shaughn                       \n",
      "correct=male     guess=female   name=Terrence                      \n",
      "correct=male     guess=female   name=Terri                         \n",
      "correct=male     guess=female   name=Thaine                        \n",
      "correct=male     guess=female   name=Torey                         \n",
      "correct=male     guess=female   name=Torrance                      \n",
      "correct=male     guess=female   name=Vail                          \n",
      "correct=male     guess=female   name=Vasili                        \n",
      "correct=male     guess=female   name=Vincents                      \n",
      "correct=male     guess=female   name=Witty                         \n",
      "correct=male     guess=female   name=Zacharie                      \n"
     ]
    }
   ],
   "source": [
    "for (tag, guess, name) in sorted(errors): # doctest: +ELLIPSIS +NORMALIZE_WHITESPACE\n",
    "    print ('correct=%-8s guess=%-8s name=%-30s' % (tag, guess, name))"
   ]
  },
  {
   "cell_type": "markdown",
   "metadata": {},
   "source": [
    "## Conclusion\n",
    "\n",
    "While the testset had a higher accuracy score than the devtest, the number of error and the error percentage was also higher for the testset. This did come as a bit fof a surprise to me. Since the accuracy score is lower for the test set, I expected the error rate to be at or lower that the error rate of the devtest. It is possible that we need to find more better patterns in the error list so we know how to modify the feature function. \n",
    "\n",
    "I would start by modifying the feature method to look at the number of vowels present in the name instead of just a True/False if a vowel exists. "
   ]
  },
  {
   "cell_type": "code",
   "execution_count": null,
   "metadata": {},
   "outputs": [],
   "source": []
  }
 ],
 "metadata": {
  "kernelspec": {
   "display_name": "Python 3",
   "language": "python",
   "name": "python3"
  },
  "language_info": {
   "codemirror_mode": {
    "name": "ipython",
    "version": 3
   },
   "file_extension": ".py",
   "mimetype": "text/x-python",
   "name": "python",
   "nbconvert_exporter": "python",
   "pygments_lexer": "ipython3",
   "version": "3.7.6"
  }
 },
 "nbformat": 4,
 "nbformat_minor": 4
}
